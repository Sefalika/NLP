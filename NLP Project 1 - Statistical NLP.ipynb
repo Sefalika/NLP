{
 "cells": [
  {
   "cell_type": "markdown",
   "metadata": {
    "id": "1cTa7L27Q_bg"
   },
   "source": [
    "# **Part A**"
   ]
  },
  {
   "cell_type": "markdown",
   "metadata": {
    "id": "W5qP8D9zQ8rc"
   },
   "source": [
    "# **• DOMAIN: Digital content management**\n",
    "\n",
    "# **• CONTEXT:**\n",
    "\n",
    "Classification is probably the most popular task that you would deal with in real life. Text in the form of blogs, posts, articles, etc. are written every second. It is a challenge to predict the information about the writer without knowing about him/her. We are going to create a classifier that predicts multiple features of the author of a given text. We have designed it as a Multi label classification problem.\n",
    "\n",
    "# **• DATA DESCRIPTION:**\n",
    "\n",
    "Over 600,000 posts from more than 19 thousand bloggers The Blog Authorship Corpus consists of the collected posts of\n",
    "19,320 bloggers gathered from blogger.com in August 2004. The corpus incorporates a total of 681,288 posts and over 140 million words - or approximately 35 posts and 7250 words per person. Each blog is presented as a separate file, the name of which indicates a blogger id# and the blogger’s self-provided gender, age, industry, and astrological sign. (All are labelled for gender and age but for many, industry and/or sign is marked as unknown.) All bloggers included in the corpus fall into one of three age groups:\n",
    "• 8240 \"10s\" blogs (ages 13-17),\n",
    "• 8086 \"20s\" blogs(ages 23-27) and\n",
    "• 2994 \"30s\" blogs (ages 33-47)\n",
    "• For each age group, there is an equal number of male and female bloggers. Each blog in the corpus includes at least 200 occurrences of common English words. All formatting has been stripped with two exceptions. Individual posts within a single blogger are separated by the date of the following post and links within a post are denoted by the label url link.\n",
    "# **• PROJECT OBJECTIVE:**\n",
    "\n",
    "To build a NLP classifier which can use input text parameters to determine the label/s of the blog. Specific to this case\n",
    "study, you can consider the text of the blog: ‘text’ feature as independent variable and ‘topic’ as dependent variable."
   ]
  },
  {
   "cell_type": "markdown",
   "metadata": {
    "id": "_r6PURNsS6ik"
   },
   "source": [
    "**Steps and tasks:**"
   ]
  },
  {
   "cell_type": "markdown",
   "metadata": {
    "id": "YZfRiAiqS82K"
   },
   "source": [
    "## **Q1. Read and Analyse Dataset.**"
   ]
  },
  {
   "cell_type": "markdown",
   "metadata": {
    "id": "43QS-lQoTaUe"
   },
   "source": [
    "***Import Libraries -***"
   ]
  },
  {
   "cell_type": "code",
   "execution_count": 3,
   "metadata": {
    "colab": {
     "base_uri": "https://localhost:8080/"
    },
    "executionInfo": {
     "elapsed": 9231,
     "status": "ok",
     "timestamp": 1698899567155,
     "user": {
      "displayName": "Sefalika Nayak",
      "userId": "05006885756924519255"
     },
     "user_tz": -330
    },
    "id": "yfMcsIjPQ1KI",
    "outputId": "64c80c5a-33a3-438d-ad90-40b5dcf2c72f"
   },
   "outputs": [
    {
     "name": "stdout",
     "output_type": "stream",
     "text": [
      "Collecting langdetect\n",
      "  Downloading langdetect-1.0.9.tar.gz (981 kB)\n",
      "\u001b[?25l     \u001b[90m━━━━━━━━━━━━━━━━━━━━━━━━━━━━━━━━━━━━━━━━\u001b[0m \u001b[32m0.0/981.5 kB\u001b[0m \u001b[31m?\u001b[0m eta \u001b[36m-:--:--\u001b[0m\r",
      "\u001b[2K     \u001b[91m━━━\u001b[0m\u001b[90m╺\u001b[0m\u001b[90m━━━━━━━━━━━━━━━━━━━━━━━━━━━━━━━━━━━━\u001b[0m \u001b[32m81.9/981.5 kB\u001b[0m \u001b[31m2.5 MB/s\u001b[0m eta \u001b[36m0:00:01\u001b[0m\r",
      "\u001b[2K     \u001b[91m━━━━━━━━━━━━━━━━━━━━━━━━━━━━━━━\u001b[0m\u001b[91m╸\u001b[0m\u001b[90m━━━━━━━━\u001b[0m \u001b[32m778.2/981.5 kB\u001b[0m \u001b[31m11.8 MB/s\u001b[0m eta \u001b[36m0:00:01\u001b[0m\r",
      "\u001b[2K     \u001b[90m━━━━━━━━━━━━━━━━━━━━━━━━━━━━━━━━━━━━━━━━\u001b[0m \u001b[32m981.5/981.5 kB\u001b[0m \u001b[31m11.8 MB/s\u001b[0m eta \u001b[36m0:00:00\u001b[0m\n",
      "\u001b[?25h  Preparing metadata (setup.py) ... \u001b[?25l\u001b[?25hdone\n",
      "Requirement already satisfied: six in /usr/local/lib/python3.10/dist-packages (from langdetect) (1.16.0)\n",
      "Building wheels for collected packages: langdetect\n",
      "  Building wheel for langdetect (setup.py) ... \u001b[?25l\u001b[?25hdone\n",
      "  Created wheel for langdetect: filename=langdetect-1.0.9-py3-none-any.whl size=993224 sha256=34b2c39471f74aae4b2f5cef8103ff8a82e964c4fba7d0a4ad4cb3bc8632ffc5\n",
      "  Stored in directory: /root/.cache/pip/wheels/95/03/7d/59ea870c70ce4e5a370638b5462a7711ab78fba2f655d05106\n",
      "Successfully built langdetect\n",
      "Installing collected packages: langdetect\n",
      "Successfully installed langdetect-1.0.9\n"
     ]
    }
   ],
   "source": [
    "!pip install langdetect\n"
   ]
  },
  {
   "cell_type": "code",
   "execution_count": 4,
   "metadata": {
    "executionInfo": {
     "elapsed": 9,
     "status": "ok",
     "timestamp": 1698899588354,
     "user": {
      "displayName": "Sefalika Nayak",
      "userId": "05006885756924519255"
     },
     "user_tz": -330
    },
    "id": "LyxmNBXOTmHL"
   },
   "outputs": [],
   "source": [
    "import langdetect"
   ]
  },
  {
   "cell_type": "code",
   "execution_count": 5,
   "metadata": {
    "executionInfo": {
     "elapsed": 2297,
     "status": "ok",
     "timestamp": 1698899615792,
     "user": {
      "displayName": "Sefalika Nayak",
      "userId": "05006885756924519255"
     },
     "user_tz": -330
    },
    "id": "im7ONigSSVUC"
   },
   "outputs": [],
   "source": [
    "import pandas as pd\n",
    "import numpy as np\n",
    "# from textblob import TextBlob\n",
    "# from googletrans import Translator\n",
    "import re\n",
    "from langdetect import detect\n",
    "\n",
    "from sklearn.preprocessing import LabelEncoder\n",
    "labelencoder = LabelEncoder()\n",
    "from sklearn.tree import DecisionTreeClassifier\n",
    "dt_classifier = DecisionTreeClassifier()\n",
    "\n",
    "from sklearn.metrics import accuracy_score\n",
    "from sklearn.metrics import f1_score\n",
    "from sklearn.metrics import precision_score\n",
    "from sklearn.metrics import recall_score\n",
    "\n",
    "from sklearn.linear_model import LogisticRegression\n",
    "rf_classifier = LogisticRegression()"
   ]
  },
  {
   "cell_type": "code",
   "execution_count": 9,
   "metadata": {
    "executionInfo": {
     "elapsed": 588,
     "status": "ok",
     "timestamp": 1698904365066,
     "user": {
      "displayName": "Sefalika Nayak",
      "userId": "05006885756924519255"
     },
     "user_tz": -330
    },
    "id": "o3ZWYCkBSVHs"
   },
   "outputs": [],
   "source": [
    "import zipfile\n",
    "from zipfile import ZipFile"
   ]
  },
  {
   "cell_type": "code",
   "execution_count": 10,
   "metadata": {
    "executionInfo": {
     "elapsed": 14271,
     "status": "ok",
     "timestamp": 1698904381986,
     "user": {
      "displayName": "Sefalika Nayak",
      "userId": "05006885756924519255"
     },
     "user_tz": -330
    },
    "id": "6SdU64FgSU_q"
   },
   "outputs": [],
   "source": [
    "import zipfile\n",
    "with zipfile.ZipFile('blogs.zip', 'r') as zip:\n",
    "    zip.extractall()"
   ]
  },
  {
   "cell_type": "code",
   "execution_count": 11,
   "metadata": {
    "executionInfo": {
     "elapsed": 14844,
     "status": "ok",
     "timestamp": 1698904462713,
     "user": {
      "displayName": "Sefalika Nayak",
      "userId": "05006885756924519255"
     },
     "user_tz": -330
    },
    "id": "RhDieNJ1SUpi"
   },
   "outputs": [],
   "source": [
    "df = pd.read_csv('blogtext.csv')"
   ]
  },
  {
   "cell_type": "markdown",
   "metadata": {
    "id": "p9GM8dR6fpiR"
   },
   "source": [
    "## **Q1.A Clearly write outcome of data analysis**"
   ]
  },
  {
   "cell_type": "code",
   "execution_count": 12,
   "metadata": {
    "colab": {
     "base_uri": "https://localhost:8080/",
     "height": 206
    },
    "executionInfo": {
     "elapsed": 688,
     "status": "ok",
     "timestamp": 1698904474562,
     "user": {
      "displayName": "Sefalika Nayak",
      "userId": "05006885756924519255"
     },
     "user_tz": -330
    },
    "id": "ioOXLz8ySUiC",
    "outputId": "98499289-d6a0-475d-b0af-bd0831612b6c"
   },
   "outputs": [
    {
     "data": {
      "text/html": [
       "\n",
       "  <div id=\"df-8dcade39-1f41-4330-8340-b8f1ad3f099d\" class=\"colab-df-container\">\n",
       "    <div>\n",
       "<style scoped>\n",
       "    .dataframe tbody tr th:only-of-type {\n",
       "        vertical-align: middle;\n",
       "    }\n",
       "\n",
       "    .dataframe tbody tr th {\n",
       "        vertical-align: top;\n",
       "    }\n",
       "\n",
       "    .dataframe thead th {\n",
       "        text-align: right;\n",
       "    }\n",
       "</style>\n",
       "<table border=\"1\" class=\"dataframe\">\n",
       "  <thead>\n",
       "    <tr style=\"text-align: right;\">\n",
       "      <th></th>\n",
       "      <th>id</th>\n",
       "      <th>gender</th>\n",
       "      <th>age</th>\n",
       "      <th>topic</th>\n",
       "      <th>sign</th>\n",
       "      <th>date</th>\n",
       "      <th>text</th>\n",
       "    </tr>\n",
       "  </thead>\n",
       "  <tbody>\n",
       "    <tr>\n",
       "      <th>0</th>\n",
       "      <td>2059027</td>\n",
       "      <td>male</td>\n",
       "      <td>15</td>\n",
       "      <td>Student</td>\n",
       "      <td>Leo</td>\n",
       "      <td>14,May,2004</td>\n",
       "      <td>Info has been found (+/- 100 pages,...</td>\n",
       "    </tr>\n",
       "    <tr>\n",
       "      <th>1</th>\n",
       "      <td>2059027</td>\n",
       "      <td>male</td>\n",
       "      <td>15</td>\n",
       "      <td>Student</td>\n",
       "      <td>Leo</td>\n",
       "      <td>13,May,2004</td>\n",
       "      <td>These are the team members:   Drewe...</td>\n",
       "    </tr>\n",
       "    <tr>\n",
       "      <th>2</th>\n",
       "      <td>2059027</td>\n",
       "      <td>male</td>\n",
       "      <td>15</td>\n",
       "      <td>Student</td>\n",
       "      <td>Leo</td>\n",
       "      <td>12,May,2004</td>\n",
       "      <td>In het kader van kernfusie op aarde...</td>\n",
       "    </tr>\n",
       "    <tr>\n",
       "      <th>3</th>\n",
       "      <td>2059027</td>\n",
       "      <td>male</td>\n",
       "      <td>15</td>\n",
       "      <td>Student</td>\n",
       "      <td>Leo</td>\n",
       "      <td>12,May,2004</td>\n",
       "      <td>testing!!!  testing!!!</td>\n",
       "    </tr>\n",
       "    <tr>\n",
       "      <th>4</th>\n",
       "      <td>3581210</td>\n",
       "      <td>male</td>\n",
       "      <td>33</td>\n",
       "      <td>InvestmentBanking</td>\n",
       "      <td>Aquarius</td>\n",
       "      <td>11,June,2004</td>\n",
       "      <td>Thanks to Yahoo!'s Toolbar I can ...</td>\n",
       "    </tr>\n",
       "  </tbody>\n",
       "</table>\n",
       "</div>\n",
       "    <div class=\"colab-df-buttons\">\n",
       "\n",
       "  <div class=\"colab-df-container\">\n",
       "    <button class=\"colab-df-convert\" onclick=\"convertToInteractive('df-8dcade39-1f41-4330-8340-b8f1ad3f099d')\"\n",
       "            title=\"Convert this dataframe to an interactive table.\"\n",
       "            style=\"display:none;\">\n",
       "\n",
       "  <svg xmlns=\"http://www.w3.org/2000/svg\" height=\"24px\" viewBox=\"0 -960 960 960\">\n",
       "    <path d=\"M120-120v-720h720v720H120Zm60-500h600v-160H180v160Zm220 220h160v-160H400v160Zm0 220h160v-160H400v160ZM180-400h160v-160H180v160Zm440 0h160v-160H620v160ZM180-180h160v-160H180v160Zm440 0h160v-160H620v160Z\"/>\n",
       "  </svg>\n",
       "    </button>\n",
       "\n",
       "  <style>\n",
       "    .colab-df-container {\n",
       "      display:flex;\n",
       "      gap: 12px;\n",
       "    }\n",
       "\n",
       "    .colab-df-convert {\n",
       "      background-color: #E8F0FE;\n",
       "      border: none;\n",
       "      border-radius: 50%;\n",
       "      cursor: pointer;\n",
       "      display: none;\n",
       "      fill: #1967D2;\n",
       "      height: 32px;\n",
       "      padding: 0 0 0 0;\n",
       "      width: 32px;\n",
       "    }\n",
       "\n",
       "    .colab-df-convert:hover {\n",
       "      background-color: #E2EBFA;\n",
       "      box-shadow: 0px 1px 2px rgba(60, 64, 67, 0.3), 0px 1px 3px 1px rgba(60, 64, 67, 0.15);\n",
       "      fill: #174EA6;\n",
       "    }\n",
       "\n",
       "    .colab-df-buttons div {\n",
       "      margin-bottom: 4px;\n",
       "    }\n",
       "\n",
       "    [theme=dark] .colab-df-convert {\n",
       "      background-color: #3B4455;\n",
       "      fill: #D2E3FC;\n",
       "    }\n",
       "\n",
       "    [theme=dark] .colab-df-convert:hover {\n",
       "      background-color: #434B5C;\n",
       "      box-shadow: 0px 1px 3px 1px rgba(0, 0, 0, 0.15);\n",
       "      filter: drop-shadow(0px 1px 2px rgba(0, 0, 0, 0.3));\n",
       "      fill: #FFFFFF;\n",
       "    }\n",
       "  </style>\n",
       "\n",
       "    <script>\n",
       "      const buttonEl =\n",
       "        document.querySelector('#df-8dcade39-1f41-4330-8340-b8f1ad3f099d button.colab-df-convert');\n",
       "      buttonEl.style.display =\n",
       "        google.colab.kernel.accessAllowed ? 'block' : 'none';\n",
       "\n",
       "      async function convertToInteractive(key) {\n",
       "        const element = document.querySelector('#df-8dcade39-1f41-4330-8340-b8f1ad3f099d');\n",
       "        const dataTable =\n",
       "          await google.colab.kernel.invokeFunction('convertToInteractive',\n",
       "                                                    [key], {});\n",
       "        if (!dataTable) return;\n",
       "\n",
       "        const docLinkHtml = 'Like what you see? Visit the ' +\n",
       "          '<a target=\"_blank\" href=https://colab.research.google.com/notebooks/data_table.ipynb>data table notebook</a>'\n",
       "          + ' to learn more about interactive tables.';\n",
       "        element.innerHTML = '';\n",
       "        dataTable['output_type'] = 'display_data';\n",
       "        await google.colab.output.renderOutput(dataTable, element);\n",
       "        const docLink = document.createElement('div');\n",
       "        docLink.innerHTML = docLinkHtml;\n",
       "        element.appendChild(docLink);\n",
       "      }\n",
       "    </script>\n",
       "  </div>\n",
       "\n",
       "\n",
       "<div id=\"df-99818233-38d7-488b-85d9-2dd0cd5b278a\">\n",
       "  <button class=\"colab-df-quickchart\" onclick=\"quickchart('df-99818233-38d7-488b-85d9-2dd0cd5b278a')\"\n",
       "            title=\"Suggest charts.\"\n",
       "            style=\"display:none;\">\n",
       "\n",
       "<svg xmlns=\"http://www.w3.org/2000/svg\" height=\"24px\"viewBox=\"0 0 24 24\"\n",
       "     width=\"24px\">\n",
       "    <g>\n",
       "        <path d=\"M19 3H5c-1.1 0-2 .9-2 2v14c0 1.1.9 2 2 2h14c1.1 0 2-.9 2-2V5c0-1.1-.9-2-2-2zM9 17H7v-7h2v7zm4 0h-2V7h2v10zm4 0h-2v-4h2v4z\"/>\n",
       "    </g>\n",
       "</svg>\n",
       "  </button>\n",
       "\n",
       "<style>\n",
       "  .colab-df-quickchart {\n",
       "      --bg-color: #E8F0FE;\n",
       "      --fill-color: #1967D2;\n",
       "      --hover-bg-color: #E2EBFA;\n",
       "      --hover-fill-color: #174EA6;\n",
       "      --disabled-fill-color: #AAA;\n",
       "      --disabled-bg-color: #DDD;\n",
       "  }\n",
       "\n",
       "  [theme=dark] .colab-df-quickchart {\n",
       "      --bg-color: #3B4455;\n",
       "      --fill-color: #D2E3FC;\n",
       "      --hover-bg-color: #434B5C;\n",
       "      --hover-fill-color: #FFFFFF;\n",
       "      --disabled-bg-color: #3B4455;\n",
       "      --disabled-fill-color: #666;\n",
       "  }\n",
       "\n",
       "  .colab-df-quickchart {\n",
       "    background-color: var(--bg-color);\n",
       "    border: none;\n",
       "    border-radius: 50%;\n",
       "    cursor: pointer;\n",
       "    display: none;\n",
       "    fill: var(--fill-color);\n",
       "    height: 32px;\n",
       "    padding: 0;\n",
       "    width: 32px;\n",
       "  }\n",
       "\n",
       "  .colab-df-quickchart:hover {\n",
       "    background-color: var(--hover-bg-color);\n",
       "    box-shadow: 0 1px 2px rgba(60, 64, 67, 0.3), 0 1px 3px 1px rgba(60, 64, 67, 0.15);\n",
       "    fill: var(--button-hover-fill-color);\n",
       "  }\n",
       "\n",
       "  .colab-df-quickchart-complete:disabled,\n",
       "  .colab-df-quickchart-complete:disabled:hover {\n",
       "    background-color: var(--disabled-bg-color);\n",
       "    fill: var(--disabled-fill-color);\n",
       "    box-shadow: none;\n",
       "  }\n",
       "\n",
       "  .colab-df-spinner {\n",
       "    border: 2px solid var(--fill-color);\n",
       "    border-color: transparent;\n",
       "    border-bottom-color: var(--fill-color);\n",
       "    animation:\n",
       "      spin 1s steps(1) infinite;\n",
       "  }\n",
       "\n",
       "  @keyframes spin {\n",
       "    0% {\n",
       "      border-color: transparent;\n",
       "      border-bottom-color: var(--fill-color);\n",
       "      border-left-color: var(--fill-color);\n",
       "    }\n",
       "    20% {\n",
       "      border-color: transparent;\n",
       "      border-left-color: var(--fill-color);\n",
       "      border-top-color: var(--fill-color);\n",
       "    }\n",
       "    30% {\n",
       "      border-color: transparent;\n",
       "      border-left-color: var(--fill-color);\n",
       "      border-top-color: var(--fill-color);\n",
       "      border-right-color: var(--fill-color);\n",
       "    }\n",
       "    40% {\n",
       "      border-color: transparent;\n",
       "      border-right-color: var(--fill-color);\n",
       "      border-top-color: var(--fill-color);\n",
       "    }\n",
       "    60% {\n",
       "      border-color: transparent;\n",
       "      border-right-color: var(--fill-color);\n",
       "    }\n",
       "    80% {\n",
       "      border-color: transparent;\n",
       "      border-right-color: var(--fill-color);\n",
       "      border-bottom-color: var(--fill-color);\n",
       "    }\n",
       "    90% {\n",
       "      border-color: transparent;\n",
       "      border-bottom-color: var(--fill-color);\n",
       "    }\n",
       "  }\n",
       "</style>\n",
       "\n",
       "  <script>\n",
       "    async function quickchart(key) {\n",
       "      const quickchartButtonEl =\n",
       "        document.querySelector('#' + key + ' button');\n",
       "      quickchartButtonEl.disabled = true;  // To prevent multiple clicks.\n",
       "      quickchartButtonEl.classList.add('colab-df-spinner');\n",
       "      try {\n",
       "        const charts = await google.colab.kernel.invokeFunction(\n",
       "            'suggestCharts', [key], {});\n",
       "      } catch (error) {\n",
       "        console.error('Error during call to suggestCharts:', error);\n",
       "      }\n",
       "      quickchartButtonEl.classList.remove('colab-df-spinner');\n",
       "      quickchartButtonEl.classList.add('colab-df-quickchart-complete');\n",
       "    }\n",
       "    (() => {\n",
       "      let quickchartButtonEl =\n",
       "        document.querySelector('#df-99818233-38d7-488b-85d9-2dd0cd5b278a button');\n",
       "      quickchartButtonEl.style.display =\n",
       "        google.colab.kernel.accessAllowed ? 'block' : 'none';\n",
       "    })();\n",
       "  </script>\n",
       "</div>\n",
       "    </div>\n",
       "  </div>\n"
      ],
      "text/plain": [
       "        id gender  age              topic      sign          date  \\\n",
       "0  2059027   male   15            Student       Leo   14,May,2004   \n",
       "1  2059027   male   15            Student       Leo   13,May,2004   \n",
       "2  2059027   male   15            Student       Leo   12,May,2004   \n",
       "3  2059027   male   15            Student       Leo   12,May,2004   \n",
       "4  3581210   male   33  InvestmentBanking  Aquarius  11,June,2004   \n",
       "\n",
       "                                                text  \n",
       "0             Info has been found (+/- 100 pages,...  \n",
       "1             These are the team members:   Drewe...  \n",
       "2             In het kader van kernfusie op aarde...  \n",
       "3                   testing!!!  testing!!!            \n",
       "4               Thanks to Yahoo!'s Toolbar I can ...  "
      ]
     },
     "execution_count": 12,
     "metadata": {},
     "output_type": "execute_result"
    }
   ],
   "source": [
    "df.head()"
   ]
  },
  {
   "cell_type": "code",
   "execution_count": 13,
   "metadata": {
    "colab": {
     "base_uri": "https://localhost:8080/",
     "height": 481
    },
    "executionInfo": {
     "elapsed": 670,
     "status": "ok",
     "timestamp": 1698904482708,
     "user": {
      "displayName": "Sefalika Nayak",
      "userId": "05006885756924519255"
     },
     "user_tz": -330
    },
    "id": "Esh9aPi9SUXb",
    "outputId": "6b6f4c7b-3cdd-4cb0-afc1-30927f5c3e18"
   },
   "outputs": [
    {
     "data": {
      "text/plain": [
       "<Axes: >"
      ]
     },
     "execution_count": 13,
     "metadata": {},
     "output_type": "execute_result"
    },
    {
     "data": {
      "image/png": "[encoded data removed]",
      "text/plain": [
       "<Figure size 640x480 with 1 Axes>"
      ]
     },
     "metadata": {},
     "output_type": "display_data"
    }
   ],
   "source": [
    "df['gender'].value_counts().plot(kind='bar')"
   ]
  },
  {
   "cell_type": "code",
   "execution_count": 14,
   "metadata": {
    "colab": {
     "base_uri": "https://localhost:8080/"
    },
    "executionInfo": {
     "elapsed": 601,
     "status": "ok",
     "timestamp": 1698904490805,
     "user": {
      "displayName": "Sefalika Nayak",
      "userId": "05006885756924519255"
     },
     "user_tz": -330
    },
    "id": "w3AzYxI3gEej",
    "outputId": "e3f380d6-e89f-460e-96bf-0fbbfac1438a"
   },
   "outputs": [
    {
     "data": {
      "text/plain": [
       "Cancer         65048\n",
       "Aries          64979\n",
       "Taurus         62561\n",
       "Libra          62363\n",
       "Virgo          60399\n",
       "Scorpio        57161\n",
       "Pisces         54053\n",
       "Leo            53811\n",
       "Gemini         51985\n",
       "Sagittarius    50036\n",
       "Aquarius       49687\n",
       "Capricorn      49201\n",
       "Name: sign, dtype: int64"
      ]
     },
     "execution_count": 14,
     "metadata": {},
     "output_type": "execute_result"
    }
   ],
   "source": [
    "df['sign'].value_counts()"
   ]
  },
  {
   "cell_type": "code",
   "execution_count": 15,
   "metadata": {
    "colab": {
     "base_uri": "https://localhost:8080/",
     "height": 508
    },
    "executionInfo": {
     "elapsed": 722,
     "status": "ok",
     "timestamp": 1698904502583,
     "user": {
      "displayName": "Sefalika Nayak",
      "userId": "05006885756924519255"
     },
     "user_tz": -330
    },
    "id": "yKcrb2kQgEbG",
    "outputId": "e3f4f806-ac23-4710-b21b-3eb3608e5d97"
   },
   "outputs": [
    {
     "data": {
      "text/plain": [
       "<Axes: >"
      ]
     },
     "execution_count": 15,
     "metadata": {},
     "output_type": "execute_result"
    },
    {
     "data": {
      "image/png": "[encoded data removed]",
      "text/plain": [
       "<Figure size 640x480 with 1 Axes>"
      ]
     },
     "metadata": {},
     "output_type": "display_data"
    }
   ],
   "source": [
    "df['sign'].value_counts().plot(kind='bar')"
   ]
  },
  {
   "cell_type": "code",
   "execution_count": 16,
   "metadata": {
    "colab": {
     "base_uri": "https://localhost:8080/"
    },
    "executionInfo": {
     "elapsed": 636,
     "status": "ok",
     "timestamp": 1698904518110,
     "user": {
      "displayName": "Sefalika Nayak",
      "userId": "05006885756924519255"
     },
     "user_tz": -330
    },
    "id": "sSsLp9aIgEXz",
    "outputId": "1c501fdb-5737-4311-8946-a536f4a91006"
   },
   "outputs": [
    {
     "data": {
      "text/plain": [
       "(681284, 7)"
      ]
     },
     "execution_count": 16,
     "metadata": {},
     "output_type": "execute_result"
    }
   ],
   "source": [
    "df.shape"
   ]
  },
  {
   "cell_type": "code",
   "execution_count": 17,
   "metadata": {
    "colab": {
     "base_uri": "https://localhost:8080/"
    },
    "executionInfo": {
     "elapsed": 1550,
     "status": "ok",
     "timestamp": 1698904521989,
     "user": {
      "displayName": "Sefalika Nayak",
      "userId": "05006885756924519255"
     },
     "user_tz": -330
    },
    "id": "mei64mWCgEUX",
    "outputId": "c8393fe7-8692-4753-cabc-f944f17975a0"
   },
   "outputs": [
    {
     "name": "stdout",
     "output_type": "stream",
     "text": [
      "<class 'pandas.core.frame.DataFrame'>\n",
      "RangeIndex: 681284 entries, 0 to 681283\n",
      "Data columns (total 7 columns):\n",
      " #   Column  Non-Null Count   Dtype \n",
      "---  ------  --------------   ----- \n",
      " 0   id      681284 non-null  int64 \n",
      " 1   gender  681284 non-null  object\n",
      " 2   age     681284 non-null  int64 \n",
      " 3   topic   681284 non-null  object\n",
      " 4   sign    681284 non-null  object\n",
      " 5   date    681284 non-null  object\n",
      " 6   text    681284 non-null  object\n",
      "dtypes: int64(2), object(5)\n",
      "memory usage: 36.4+ MB\n"
     ]
    }
   ],
   "source": [
    "df.info()"
   ]
  },
  {
   "cell_type": "code",
   "execution_count": 18,
   "metadata": {
    "colab": {
     "base_uri": "https://localhost:8080/",
     "height": 112
    },
    "executionInfo": {
     "elapsed": 596,
     "status": "ok",
     "timestamp": 1698904555145,
     "user": {
      "displayName": "Sefalika Nayak",
      "userId": "05006885756924519255"
     },
     "user_tz": -330
    },
    "id": "51asAqLsgERB",
    "outputId": "04012b75-e001-49d3-bd78-271d2a4eb914"
   },
   "outputs": [
    {
     "data": {
      "text/html": [
       "\n",
       "  <div id=\"df-28bf023a-d336-4ddf-936c-9e19daeeca48\" class=\"colab-df-container\">\n",
       "    <div>\n",
       "<style scoped>\n",
       "    .dataframe tbody tr th:only-of-type {\n",
       "        vertical-align: middle;\n",
       "    }\n",
       "\n",
       "    .dataframe tbody tr th {\n",
       "        vertical-align: top;\n",
       "    }\n",
       "\n",
       "    .dataframe thead th {\n",
       "        text-align: right;\n",
       "    }\n",
       "</style>\n",
       "<table border=\"1\" class=\"dataframe\">\n",
       "  <thead>\n",
       "    <tr style=\"text-align: right;\">\n",
       "      <th></th>\n",
       "      <th>count</th>\n",
       "      <th>mean</th>\n",
       "      <th>std</th>\n",
       "      <th>min</th>\n",
       "      <th>25%</th>\n",
       "      <th>50%</th>\n",
       "      <th>75%</th>\n",
       "      <th>max</th>\n",
       "    </tr>\n",
       "  </thead>\n",
       "  <tbody>\n",
       "    <tr>\n",
       "      <th>id</th>\n",
       "      <td>681284.0</td>\n",
       "      <td>2.397802e+06</td>\n",
       "      <td>1.247723e+06</td>\n",
       "      <td>5114.0</td>\n",
       "      <td>1239610.0</td>\n",
       "      <td>2607577.0</td>\n",
       "      <td>3525660.0</td>\n",
       "      <td>4337650.0</td>\n",
       "    </tr>\n",
       "    <tr>\n",
       "      <th>age</th>\n",
       "      <td>681284.0</td>\n",
       "      <td>2.393233e+01</td>\n",
       "      <td>7.786009e+00</td>\n",
       "      <td>13.0</td>\n",
       "      <td>17.0</td>\n",
       "      <td>24.0</td>\n",
       "      <td>26.0</td>\n",
       "      <td>48.0</td>\n",
       "    </tr>\n",
       "  </tbody>\n",
       "</table>\n",
       "</div>\n",
       "    <div class=\"colab-df-buttons\">\n",
       "\n",
       "  <div class=\"colab-df-container\">\n",
       "    <button class=\"colab-df-convert\" onclick=\"convertToInteractive('df-28bf023a-d336-4ddf-936c-9e19daeeca48')\"\n",
       "            title=\"Convert this dataframe to an interactive table.\"\n",
       "            style=\"display:none;\">\n",
       "\n",
       "  <svg xmlns=\"http://www.w3.org/2000/svg\" height=\"24px\" viewBox=\"0 -960 960 960\">\n",
       "    <path d=\"M120-120v-720h720v720H120Zm60-500h600v-160H180v160Zm220 220h160v-160H400v160Zm0 220h160v-160H400v160ZM180-400h160v-160H180v160Zm440 0h160v-160H620v160ZM180-180h160v-160H180v160Zm440 0h160v-160H620v160Z\"/>\n",
       "  </svg>\n",
       "    </button>\n",
       "\n",
       "  <style>\n",
       "    .colab-df-container {\n",
       "      display:flex;\n",
       "      gap: 12px;\n",
       "    }\n",
       "\n",
       "    .colab-df-convert {\n",
       "      background-color: #E8F0FE;\n",
       "      border: none;\n",
       "      border-radius: 50%;\n",
       "      cursor: pointer;\n",
       "      display: none;\n",
       "      fill: #1967D2;\n",
       "      height: 32px;\n",
       "      padding: 0 0 0 0;\n",
       "      width: 32px;\n",
       "    }\n",
       "\n",
       "    .colab-df-convert:hover {\n",
       "      background-color: #E2EBFA;\n",
       "      box-shadow: 0px 1px 2px rgba(60, 64, 67, 0.3), 0px 1px 3px 1px rgba(60, 64, 67, 0.15);\n",
       "      fill: #174EA6;\n",
       "    }\n",
       "\n",
       "    .colab-df-buttons div {\n",
       "      margin-bottom: 4px;\n",
       "    }\n",
       "\n",
       "    [theme=dark] .colab-df-convert {\n",
       "      background-color: #3B4455;\n",
       "      fill: #D2E3FC;\n",
       "    }\n",
       "\n",
       "    [theme=dark] .colab-df-convert:hover {\n",
       "      background-color: #434B5C;\n",
       "      box-shadow: 0px 1px 3px 1px rgba(0, 0, 0, 0.15);\n",
       "      filter: drop-shadow(0px 1px 2px rgba(0, 0, 0, 0.3));\n",
       "      fill: #FFFFFF;\n",
       "    }\n",
       "  </style>\n",
       "\n",
       "    <script>\n",
       "      const buttonEl =\n",
       "        document.querySelector('#df-28bf023a-d336-4ddf-936c-9e19daeeca48 button.colab-df-convert');\n",
       "      buttonEl.style.display =\n",
       "        google.colab.kernel.accessAllowed ? 'block' : 'none';\n",
       "\n",
       "      async function convertToInteractive(key) {\n",
       "        const element = document.querySelector('#df-28bf023a-d336-4ddf-936c-9e19daeeca48');\n",
       "        const dataTable =\n",
       "          await google.colab.kernel.invokeFunction('convertToInteractive',\n",
       "                                                    [key], {});\n",
       "        if (!dataTable) return;\n",
       "\n",
       "        const docLinkHtml = 'Like what you see? Visit the ' +\n",
       "          '<a target=\"_blank\" href=https://colab.research.google.com/notebooks/data_table.ipynb>data table notebook</a>'\n",
       "          + ' to learn more about interactive tables.';\n",
       "        element.innerHTML = '';\n",
       "        dataTable['output_type'] = 'display_data';\n",
       "        await google.colab.output.renderOutput(dataTable, element);\n",
       "        const docLink = document.createElement('div');\n",
       "        docLink.innerHTML = docLinkHtml;\n",
       "        element.appendChild(docLink);\n",
       "      }\n",
       "    </script>\n",
       "  </div>\n",
       "\n",
       "\n",
       "<div id=\"df-96e6ed82-6d47-4a49-b28e-919621c1265f\">\n",
       "  <button class=\"colab-df-quickchart\" onclick=\"quickchart('df-96e6ed82-6d47-4a49-b28e-919621c1265f')\"\n",
       "            title=\"Suggest charts.\"\n",
       "            style=\"display:none;\">\n",
       "\n",
       "<svg xmlns=\"http://www.w3.org/2000/svg\" height=\"24px\"viewBox=\"0 0 24 24\"\n",
       "     width=\"24px\">\n",
       "    <g>\n",
       "        <path d=\"M19 3H5c-1.1 0-2 .9-2 2v14c0 1.1.9 2 2 2h14c1.1 0 2-.9 2-2V5c0-1.1-.9-2-2-2zM9 17H7v-7h2v7zm4 0h-2V7h2v10zm4 0h-2v-4h2v4z\"/>\n",
       "    </g>\n",
       "</svg>\n",
       "  </button>\n",
       "\n",
       "<style>\n",
       "  .colab-df-quickchart {\n",
       "      --bg-color: #E8F0FE;\n",
       "      --fill-color: #1967D2;\n",
       "      --hover-bg-color: #E2EBFA;\n",
       "      --hover-fill-color: #174EA6;\n",
       "      --disabled-fill-color: #AAA;\n",
       "      --disabled-bg-color: #DDD;\n",
       "  }\n",
       "\n",
       "  [theme=dark] .colab-df-quickchart {\n",
       "      --bg-color: #3B4455;\n",
       "      --fill-color: #D2E3FC;\n",
       "      --hover-bg-color: #434B5C;\n",
       "      --hover-fill-color: #FFFFFF;\n",
       "      --disabled-bg-color: #3B4455;\n",
       "      --disabled-fill-color: #666;\n",
       "  }\n",
       "\n",
       "  .colab-df-quickchart {\n",
       "    background-color: var(--bg-color);\n",
       "    border: none;\n",
       "    border-radius: 50%;\n",
       "    cursor: pointer;\n",
       "    display: none;\n",
       "    fill: var(--fill-color);\n",
       "    height: 32px;\n",
       "    padding: 0;\n",
       "    width: 32px;\n",
       "  }\n",
       "\n",
       "  .colab-df-quickchart:hover {\n",
       "    background-color: var(--hover-bg-color);\n",
       "    box-shadow: 0 1px 2px rgba(60, 64, 67, 0.3), 0 1px 3px 1px rgba(60, 64, 67, 0.15);\n",
       "    fill: var(--button-hover-fill-color);\n",
       "  }\n",
       "\n",
       "  .colab-df-quickchart-complete:disabled,\n",
       "  .colab-df-quickchart-complete:disabled:hover {\n",
       "    background-color: var(--disabled-bg-color);\n",
       "    fill: var(--disabled-fill-color);\n",
       "    box-shadow: none;\n",
       "  }\n",
       "\n",
       "  .colab-df-spinner {\n",
       "    border: 2px solid var(--fill-color);\n",
       "    border-color: transparent;\n",
       "    border-bottom-color: var(--fill-color);\n",
       "    animation:\n",
       "      spin 1s steps(1) infinite;\n",
       "  }\n",
       "\n",
       "  @keyframes spin {\n",
       "    0% {\n",
       "      border-color: transparent;\n",
       "      border-bottom-color: var(--fill-color);\n",
       "      border-left-color: var(--fill-color);\n",
       "    }\n",
       "    20% {\n",
       "      border-color: transparent;\n",
       "      border-left-color: var(--fill-color);\n",
       "      border-top-color: var(--fill-color);\n",
       "    }\n",
       "    30% {\n",
       "      border-color: transparent;\n",
       "      border-left-color: var(--fill-color);\n",
       "      border-top-color: var(--fill-color);\n",
       "      border-right-color: var(--fill-color);\n",
       "    }\n",
       "    40% {\n",
       "      border-color: transparent;\n",
       "      border-right-color: var(--fill-color);\n",
       "      border-top-color: var(--fill-color);\n",
       "    }\n",
       "    60% {\n",
       "      border-color: transparent;\n",
       "      border-right-color: var(--fill-color);\n",
       "    }\n",
       "    80% {\n",
       "      border-color: transparent;\n",
       "      border-right-color: var(--fill-color);\n",
       "      border-bottom-color: var(--fill-color);\n",
       "    }\n",
       "    90% {\n",
       "      border-color: transparent;\n",
       "      border-bottom-color: var(--fill-color);\n",
       "    }\n",
       "  }\n",
       "</style>\n",
       "\n",
       "  <script>\n",
       "    async function quickchart(key) {\n",
       "      const quickchartButtonEl =\n",
       "        document.querySelector('#' + key + ' button');\n",
       "      quickchartButtonEl.disabled = true;  // To prevent multiple clicks.\n",
       "      quickchartButtonEl.classList.add('colab-df-spinner');\n",
       "      try {\n",
       "        const charts = await google.colab.kernel.invokeFunction(\n",
       "            'suggestCharts', [key], {});\n",
       "      } catch (error) {\n",
       "        console.error('Error during call to suggestCharts:', error);\n",
       "      }\n",
       "      quickchartButtonEl.classList.remove('colab-df-spinner');\n",
       "      quickchartButtonEl.classList.add('colab-df-quickchart-complete');\n",
       "    }\n",
       "    (() => {\n",
       "      let quickchartButtonEl =\n",
       "        document.querySelector('#df-96e6ed82-6d47-4a49-b28e-919621c1265f button');\n",
       "      quickchartButtonEl.style.display =\n",
       "        google.colab.kernel.accessAllowed ? 'block' : 'none';\n",
       "    })();\n",
       "  </script>\n",
       "</div>\n",
       "    </div>\n",
       "  </div>\n"
      ],
      "text/plain": [
       "        count          mean           std     min        25%        50%  \\\n",
       "id   681284.0  2.397802e+06  1.247723e+06  5114.0  1239610.0  2607577.0   \n",
       "age  681284.0  2.393233e+01  7.786009e+00    13.0       17.0       24.0   \n",
       "\n",
       "           75%        max  \n",
       "id   3525660.0  4337650.0  \n",
       "age       26.0       48.0  "
      ]
     },
     "execution_count": 18,
     "metadata": {},
     "output_type": "execute_result"
    }
   ],
   "source": [
    "df.describe().T"
   ]
  },
  {
   "cell_type": "code",
   "execution_count": 19,
   "metadata": {
    "executionInfo": {
     "elapsed": 721,
     "status": "ok",
     "timestamp": 1698904566794,
     "user": {
      "displayName": "Sefalika Nayak",
      "userId": "05006885756924519255"
     },
     "user_tz": -330
    },
    "id": "UH_lMmCPgENf"
   },
   "outputs": [],
   "source": [
    "df = df[:1000] # Subset of data is considered to expedite execution"
   ]
  },
  {
   "cell_type": "markdown",
   "metadata": {
    "id": "_YCqSNYolQem"
   },
   "source": [
    "# **Insights:**\n",
    "1. Data comprises of 0.68 miilion of data points\n",
    "2. Data has 7 features id, gender, age, topic, sign, date, text\n",
    "3. Dataset is evenly distributed on age, sign"
   ]
  },
  {
   "cell_type": "markdown",
   "metadata": {
    "id": "Gf8PyRhhli3D"
   },
   "source": [
    "## **Q1.B Clean the Structured Data**"
   ]
  },
  {
   "cell_type": "code",
   "execution_count": 20,
   "metadata": {
    "colab": {
     "base_uri": "https://localhost:8080/"
    },
    "executionInfo": {
     "elapsed": 572,
     "status": "ok",
     "timestamp": 1698904590944,
     "user": {
      "displayName": "Sefalika Nayak",
      "userId": "05006885756924519255"
     },
     "user_tz": -330
    },
    "id": "b9vdbzrTgEKB",
    "outputId": "c0cbf4d0-f5ab-40d0-fc91-4439c34ea4f7"
   },
   "outputs": [
    {
     "data": {
      "text/plain": [
       "id        0\n",
       "gender    0\n",
       "age       0\n",
       "topic     0\n",
       "sign      0\n",
       "date      0\n",
       "text      0\n",
       "dtype: int64"
      ]
     },
     "execution_count": 20,
     "metadata": {},
     "output_type": "execute_result"
    }
   ],
   "source": [
    "df.isnull().sum()"
   ]
  },
  {
   "cell_type": "code",
   "execution_count": 21,
   "metadata": {
    "executionInfo": {
     "elapsed": 13924,
     "status": "ok",
     "timestamp": 1698904618377,
     "user": {
      "displayName": "Sefalika Nayak",
      "userId": "05006885756924519255"
     },
     "user_tz": -330
    },
    "id": "2Sh-r5QvgEDx"
   },
   "outputs": [],
   "source": [
    "language = []\n",
    "for i,j in enumerate(df['text']):\n",
    "    try:\n",
    "        a = detect(j)\n",
    "        language.append(a)\n",
    "    except:\n",
    "        language.append('NA')"
   ]
  },
  {
   "cell_type": "code",
   "execution_count": 22,
   "metadata": {
    "executionInfo": {
     "elapsed": 664,
     "status": "ok",
     "timestamp": 1698904624238,
     "user": {
      "displayName": "Sefalika Nayak",
      "userId": "05006885756924519255"
     },
     "user_tz": -330
    },
    "id": "wyA1wJFagEAR"
   },
   "outputs": [],
   "source": [
    "df['language'] = language"
   ]
  },
  {
   "cell_type": "code",
   "execution_count": 23,
   "metadata": {
    "colab": {
     "base_uri": "https://localhost:8080/"
    },
    "executionInfo": {
     "elapsed": 922,
     "status": "ok",
     "timestamp": 1698904633958,
     "user": {
      "displayName": "Sefalika Nayak",
      "userId": "05006885756924519255"
     },
     "user_tz": -330
    },
    "id": "1foQcdVCgD85",
    "outputId": "849fb7cb-23bd-4ed2-f99b-3960f169762c"
   },
   "outputs": [
    {
     "data": {
      "text/plain": [
       "1000"
      ]
     },
     "execution_count": 23,
     "metadata": {},
     "output_type": "execute_result"
    }
   ],
   "source": [
    "len(language)"
   ]
  },
  {
   "cell_type": "code",
   "execution_count": 24,
   "metadata": {
    "executionInfo": {
     "elapsed": 590,
     "status": "ok",
     "timestamp": 1698904644146,
     "user": {
      "displayName": "Sefalika Nayak",
      "userId": "05006885756924519255"
     },
     "user_tz": -330
    },
    "id": "cezJKr2ngD5P"
   },
   "outputs": [],
   "source": [
    "df = df[df['language']=='en']"
   ]
  },
  {
   "cell_type": "markdown",
   "metadata": {
    "id": "N64vsnOinA68"
   },
   "source": [
    "### **Q2. Preprocess unstructured data to make it consumable for model training.**\n",
    "### **Q2.A Eliminate All special Characters and Numbers**"
   ]
  },
  {
   "cell_type": "code",
   "execution_count": 25,
   "metadata": {
    "executionInfo": {
     "elapsed": 10,
     "status": "ok",
     "timestamp": 1698904794691,
     "user": {
      "displayName": "Sefalika Nayak",
      "userId": "05006885756924519255"
     },
     "user_tz": -330
    },
    "id": "9Xg9dYF0gD1X"
   },
   "outputs": [],
   "source": [
    "# Select only alphabets\n",
    "df.text = df.text.apply(lambda x: re.sub('[^A-Za-z]+', ' ', x))"
   ]
  },
  {
   "cell_type": "markdown",
   "metadata": {
    "id": "RDbDAXucnjQS"
   },
   "source": [
    "### **Q2.B Lowercase all textual data**"
   ]
  },
  {
   "cell_type": "code",
   "execution_count": 26,
   "metadata": {
    "executionInfo": {
     "elapsed": 1021,
     "status": "ok",
     "timestamp": 1698904853295,
     "user": {
      "displayName": "Sefalika Nayak",
      "userId": "05006885756924519255"
     },
     "user_tz": -330
    },
    "id": "9r4aH5oBgDxq"
   },
   "outputs": [],
   "source": [
    "# Convert text to lowercase\n",
    "df.text = df.text.apply(lambda x: x.lower())"
   ]
  },
  {
   "cell_type": "markdown",
   "metadata": {
    "id": "ClqoAWHDnvdU"
   },
   "source": [
    "**Q2.C Remove all Stopwords**"
   ]
  },
  {
   "cell_type": "code",
   "execution_count": 27,
   "metadata": {
    "colab": {
     "base_uri": "https://localhost:8080/"
    },
    "executionInfo": {
     "elapsed": 1869,
     "status": "ok",
     "timestamp": 1698904889827,
     "user": {
      "displayName": "Sefalika Nayak",
      "userId": "05006885756924519255"
     },
     "user_tz": -330
    },
    "id": "UCbd0gZjgDuP",
    "outputId": "ddae46ef-5954-4433-b607-28915ee6e6db"
   },
   "outputs": [
    {
     "name": "stderr",
     "output_type": "stream",
     "text": [
      "[nltk_data] Downloading package stopwords to /root/nltk_data...\n",
      "[nltk_data]   Unzipping corpora/stopwords.zip.\n"
     ]
    }
   ],
   "source": [
    "import nltk\n",
    "nltk.download('stopwords')\n",
    "from nltk.corpus import stopwords\n",
    "stopwords = set(stopwords.words('english'))\n",
    "df.text = df.text.apply(lambda x: ' '.join([word for word in x.split() if word not in stopwords]))"
   ]
  },
  {
   "cell_type": "markdown",
   "metadata": {
    "id": "1dTcIdCln6vy"
   },
   "source": [
    "**Q2.D Remove all extra white spaces**"
   ]
  },
  {
   "cell_type": "code",
   "execution_count": 28,
   "metadata": {
    "executionInfo": {
     "elapsed": 5,
     "status": "ok",
     "timestamp": 1698904934965,
     "user": {
      "displayName": "Sefalika Nayak",
      "userId": "05006885756924519255"
     },
     "user_tz": -330
    },
    "id": "tPIGmhGtgDrB"
   },
   "outputs": [],
   "source": [
    "# Strip unwanted spaces\n",
    "df.text = df.text.apply(lambda x: x.strip())"
   ]
  },
  {
   "cell_type": "code",
   "execution_count": 29,
   "metadata": {
    "colab": {
     "base_uri": "https://localhost:8080/",
     "height": 206
    },
    "executionInfo": {
     "elapsed": 1070,
     "status": "ok",
     "timestamp": 1698904944094,
     "user": {
      "displayName": "Sefalika Nayak",
      "userId": "05006885756924519255"
     },
     "user_tz": -330
    },
    "id": "SuwYYDO6gDnQ",
    "outputId": "9384b754-40da-460c-dded-b137294c84d8"
   },
   "outputs": [
    {
     "data": {
      "text/html": [
       "\n",
       "  <div id=\"df-5af0bd2b-3e6a-4809-b86f-b4a16f448011\" class=\"colab-df-container\">\n",
       "    <div>\n",
       "<style scoped>\n",
       "    .dataframe tbody tr th:only-of-type {\n",
       "        vertical-align: middle;\n",
       "    }\n",
       "\n",
       "    .dataframe tbody tr th {\n",
       "        vertical-align: top;\n",
       "    }\n",
       "\n",
       "    .dataframe thead th {\n",
       "        text-align: right;\n",
       "    }\n",
       "</style>\n",
       "<table border=\"1\" class=\"dataframe\">\n",
       "  <thead>\n",
       "    <tr style=\"text-align: right;\">\n",
       "      <th></th>\n",
       "      <th>id</th>\n",
       "      <th>gender</th>\n",
       "      <th>age</th>\n",
       "      <th>topic</th>\n",
       "      <th>sign</th>\n",
       "      <th>date</th>\n",
       "      <th>text</th>\n",
       "      <th>language</th>\n",
       "    </tr>\n",
       "  </thead>\n",
       "  <tbody>\n",
       "    <tr>\n",
       "      <th>0</th>\n",
       "      <td>2059027</td>\n",
       "      <td>male</td>\n",
       "      <td>15</td>\n",
       "      <td>Student</td>\n",
       "      <td>Leo</td>\n",
       "      <td>14,May,2004</td>\n",
       "      <td>info found pages mb pdf files wait untill team...</td>\n",
       "      <td>en</td>\n",
       "    </tr>\n",
       "    <tr>\n",
       "      <th>2</th>\n",
       "      <td>2059027</td>\n",
       "      <td>male</td>\n",
       "      <td>15</td>\n",
       "      <td>Student</td>\n",
       "      <td>Leo</td>\n",
       "      <td>12,May,2004</td>\n",
       "      <td>het kader van kernfusie op aarde maak je eigen...</td>\n",
       "      <td>en</td>\n",
       "    </tr>\n",
       "    <tr>\n",
       "      <th>3</th>\n",
       "      <td>2059027</td>\n",
       "      <td>male</td>\n",
       "      <td>15</td>\n",
       "      <td>Student</td>\n",
       "      <td>Leo</td>\n",
       "      <td>12,May,2004</td>\n",
       "      <td>testing testing</td>\n",
       "      <td>en</td>\n",
       "    </tr>\n",
       "    <tr>\n",
       "      <th>4</th>\n",
       "      <td>3581210</td>\n",
       "      <td>male</td>\n",
       "      <td>33</td>\n",
       "      <td>InvestmentBanking</td>\n",
       "      <td>Aquarius</td>\n",
       "      <td>11,June,2004</td>\n",
       "      <td>thanks yahoo toolbar capture urls popups means...</td>\n",
       "      <td>en</td>\n",
       "    </tr>\n",
       "    <tr>\n",
       "      <th>5</th>\n",
       "      <td>3581210</td>\n",
       "      <td>male</td>\n",
       "      <td>33</td>\n",
       "      <td>InvestmentBanking</td>\n",
       "      <td>Aquarius</td>\n",
       "      <td>10,June,2004</td>\n",
       "      <td>interesting conversation dad morning talking k...</td>\n",
       "      <td>en</td>\n",
       "    </tr>\n",
       "  </tbody>\n",
       "</table>\n",
       "</div>\n",
       "    <div class=\"colab-df-buttons\">\n",
       "\n",
       "  <div class=\"colab-df-container\">\n",
       "    <button class=\"colab-df-convert\" onclick=\"convertToInteractive('df-5af0bd2b-3e6a-4809-b86f-b4a16f448011')\"\n",
       "            title=\"Convert this dataframe to an interactive table.\"\n",
       "            style=\"display:none;\">\n",
       "\n",
       "  <svg xmlns=\"http://www.w3.org/2000/svg\" height=\"24px\" viewBox=\"0 -960 960 960\">\n",
       "    <path d=\"M120-120v-720h720v720H120Zm60-500h600v-160H180v160Zm220 220h160v-160H400v160Zm0 220h160v-160H400v160ZM180-400h160v-160H180v160Zm440 0h160v-160H620v160ZM180-180h160v-160H180v160Zm440 0h160v-160H620v160Z\"/>\n",
       "  </svg>\n",
       "    </button>\n",
       "\n",
       "  <style>\n",
       "    .colab-df-container {\n",
       "      display:flex;\n",
       "      gap: 12px;\n",
       "    }\n",
       "\n",
       "    .colab-df-convert {\n",
       "      background-color: #E8F0FE;\n",
       "      border: none;\n",
       "      border-radius: 50%;\n",
       "      cursor: pointer;\n",
       "      display: none;\n",
       "      fill: #1967D2;\n",
       "      height: 32px;\n",
       "      padding: 0 0 0 0;\n",
       "      width: 32px;\n",
       "    }\n",
       "\n",
       "    .colab-df-convert:hover {\n",
       "      background-color: #E2EBFA;\n",
       "      box-shadow: 0px 1px 2px rgba(60, 64, 67, 0.3), 0px 1px 3px 1px rgba(60, 64, 67, 0.15);\n",
       "      fill: #174EA6;\n",
       "    }\n",
       "\n",
       "    .colab-df-buttons div {\n",
       "      margin-bottom: 4px;\n",
       "    }\n",
       "\n",
       "    [theme=dark] .colab-df-convert {\n",
       "      background-color: #3B4455;\n",
       "      fill: #D2E3FC;\n",
       "    }\n",
       "\n",
       "    [theme=dark] .colab-df-convert:hover {\n",
       "      background-color: #434B5C;\n",
       "      box-shadow: 0px 1px 3px 1px rgba(0, 0, 0, 0.15);\n",
       "      filter: drop-shadow(0px 1px 2px rgba(0, 0, 0, 0.3));\n",
       "      fill: #FFFFFF;\n",
       "    }\n",
       "  </style>\n",
       "\n",
       "    <script>\n",
       "      const buttonEl =\n",
       "        document.querySelector('#df-5af0bd2b-3e6a-4809-b86f-b4a16f448011 button.colab-df-convert');\n",
       "      buttonEl.style.display =\n",
       "        google.colab.kernel.accessAllowed ? 'block' : 'none';\n",
       "\n",
       "      async function convertToInteractive(key) {\n",
       "        const element = document.querySelector('#df-5af0bd2b-3e6a-4809-b86f-b4a16f448011');\n",
       "        const dataTable =\n",
       "          await google.colab.kernel.invokeFunction('convertToInteractive',\n",
       "                                                    [key], {});\n",
       "        if (!dataTable) return;\n",
       "\n",
       "        const docLinkHtml = 'Like what you see? Visit the ' +\n",
       "          '<a target=\"_blank\" href=https://colab.research.google.com/notebooks/data_table.ipynb>data table notebook</a>'\n",
       "          + ' to learn more about interactive tables.';\n",
       "        element.innerHTML = '';\n",
       "        dataTable['output_type'] = 'display_data';\n",
       "        await google.colab.output.renderOutput(dataTable, element);\n",
       "        const docLink = document.createElement('div');\n",
       "        docLink.innerHTML = docLinkHtml;\n",
       "        element.appendChild(docLink);\n",
       "      }\n",
       "    </script>\n",
       "  </div>\n",
       "\n",
       "\n",
       "<div id=\"df-56b21521-0298-4b5e-abe5-a9d7a7fac4a2\">\n",
       "  <button class=\"colab-df-quickchart\" onclick=\"quickchart('df-56b21521-0298-4b5e-abe5-a9d7a7fac4a2')\"\n",
       "            title=\"Suggest charts.\"\n",
       "            style=\"display:none;\">\n",
       "\n",
       "<svg xmlns=\"http://www.w3.org/2000/svg\" height=\"24px\"viewBox=\"0 0 24 24\"\n",
       "     width=\"24px\">\n",
       "    <g>\n",
       "        <path d=\"M19 3H5c-1.1 0-2 .9-2 2v14c0 1.1.9 2 2 2h14c1.1 0 2-.9 2-2V5c0-1.1-.9-2-2-2zM9 17H7v-7h2v7zm4 0h-2V7h2v10zm4 0h-2v-4h2v4z\"/>\n",
       "    </g>\n",
       "</svg>\n",
       "  </button>\n",
       "\n",
       "<style>\n",
       "  .colab-df-quickchart {\n",
       "      --bg-color: #E8F0FE;\n",
       "      --fill-color: #1967D2;\n",
       "      --hover-bg-color: #E2EBFA;\n",
       "      --hover-fill-color: #174EA6;\n",
       "      --disabled-fill-color: #AAA;\n",
       "      --disabled-bg-color: #DDD;\n",
       "  }\n",
       "\n",
       "  [theme=dark] .colab-df-quickchart {\n",
       "      --bg-color: #3B4455;\n",
       "      --fill-color: #D2E3FC;\n",
       "      --hover-bg-color: #434B5C;\n",
       "      --hover-fill-color: #FFFFFF;\n",
       "      --disabled-bg-color: #3B4455;\n",
       "      --disabled-fill-color: #666;\n",
       "  }\n",
       "\n",
       "  .colab-df-quickchart {\n",
       "    background-color: var(--bg-color);\n",
       "    border: none;\n",
       "    border-radius: 50%;\n",
       "    cursor: pointer;\n",
       "    display: none;\n",
       "    fill: var(--fill-color);\n",
       "    height: 32px;\n",
       "    padding: 0;\n",
       "    width: 32px;\n",
       "  }\n",
       "\n",
       "  .colab-df-quickchart:hover {\n",
       "    background-color: var(--hover-bg-color);\n",
       "    box-shadow: 0 1px 2px rgba(60, 64, 67, 0.3), 0 1px 3px 1px rgba(60, 64, 67, 0.15);\n",
       "    fill: var(--button-hover-fill-color);\n",
       "  }\n",
       "\n",
       "  .colab-df-quickchart-complete:disabled,\n",
       "  .colab-df-quickchart-complete:disabled:hover {\n",
       "    background-color: var(--disabled-bg-color);\n",
       "    fill: var(--disabled-fill-color);\n",
       "    box-shadow: none;\n",
       "  }\n",
       "\n",
       "  .colab-df-spinner {\n",
       "    border: 2px solid var(--fill-color);\n",
       "    border-color: transparent;\n",
       "    border-bottom-color: var(--fill-color);\n",
       "    animation:\n",
       "      spin 1s steps(1) infinite;\n",
       "  }\n",
       "\n",
       "  @keyframes spin {\n",
       "    0% {\n",
       "      border-color: transparent;\n",
       "      border-bottom-color: var(--fill-color);\n",
       "      border-left-color: var(--fill-color);\n",
       "    }\n",
       "    20% {\n",
       "      border-color: transparent;\n",
       "      border-left-color: var(--fill-color);\n",
       "      border-top-color: var(--fill-color);\n",
       "    }\n",
       "    30% {\n",
       "      border-color: transparent;\n",
       "      border-left-color: var(--fill-color);\n",
       "      border-top-color: var(--fill-color);\n",
       "      border-right-color: var(--fill-color);\n",
       "    }\n",
       "    40% {\n",
       "      border-color: transparent;\n",
       "      border-right-color: var(--fill-color);\n",
       "      border-top-color: var(--fill-color);\n",
       "    }\n",
       "    60% {\n",
       "      border-color: transparent;\n",
       "      border-right-color: var(--fill-color);\n",
       "    }\n",
       "    80% {\n",
       "      border-color: transparent;\n",
       "      border-right-color: var(--fill-color);\n",
       "      border-bottom-color: var(--fill-color);\n",
       "    }\n",
       "    90% {\n",
       "      border-color: transparent;\n",
       "      border-bottom-color: var(--fill-color);\n",
       "    }\n",
       "  }\n",
       "</style>\n",
       "\n",
       "  <script>\n",
       "    async function quickchart(key) {\n",
       "      const quickchartButtonEl =\n",
       "        document.querySelector('#' + key + ' button');\n",
       "      quickchartButtonEl.disabled = true;  // To prevent multiple clicks.\n",
       "      quickchartButtonEl.classList.add('colab-df-spinner');\n",
       "      try {\n",
       "        const charts = await google.colab.kernel.invokeFunction(\n",
       "            'suggestCharts', [key], {});\n",
       "      } catch (error) {\n",
       "        console.error('Error during call to suggestCharts:', error);\n",
       "      }\n",
       "      quickchartButtonEl.classList.remove('colab-df-spinner');\n",
       "      quickchartButtonEl.classList.add('colab-df-quickchart-complete');\n",
       "    }\n",
       "    (() => {\n",
       "      let quickchartButtonEl =\n",
       "        document.querySelector('#df-56b21521-0298-4b5e-abe5-a9d7a7fac4a2 button');\n",
       "      quickchartButtonEl.style.display =\n",
       "        google.colab.kernel.accessAllowed ? 'block' : 'none';\n",
       "    })();\n",
       "  </script>\n",
       "</div>\n",
       "    </div>\n",
       "  </div>\n"
      ],
      "text/plain": [
       "        id gender  age              topic      sign          date  \\\n",
       "0  2059027   male   15            Student       Leo   14,May,2004   \n",
       "2  2059027   male   15            Student       Leo   12,May,2004   \n",
       "3  2059027   male   15            Student       Leo   12,May,2004   \n",
       "4  3581210   male   33  InvestmentBanking  Aquarius  11,June,2004   \n",
       "5  3581210   male   33  InvestmentBanking  Aquarius  10,June,2004   \n",
       "\n",
       "                                                text language  \n",
       "0  info found pages mb pdf files wait untill team...       en  \n",
       "2  het kader van kernfusie op aarde maak je eigen...       en  \n",
       "3                                    testing testing       en  \n",
       "4  thanks yahoo toolbar capture urls popups means...       en  \n",
       "5  interesting conversation dad morning talking k...       en  "
      ]
     },
     "execution_count": 29,
     "metadata": {},
     "output_type": "execute_result"
    }
   ],
   "source": [
    "df.head()"
   ]
  },
  {
   "cell_type": "markdown",
   "metadata": {
    "id": "ZXAS0tb7oIRI"
   },
   "source": [
    "**Q3. Build a base Classification model**\n",
    "\n",
    "**Q3.A Create dependent and independent variables**\n",
    "\n",
    "      Hint: Treat ‘topic’ as a Target variable."
   ]
  },
  {
   "cell_type": "code",
   "execution_count": 30,
   "metadata": {
    "executionInfo": {
     "elapsed": 640,
     "status": "ok",
     "timestamp": 1698905120686,
     "user": {
      "displayName": "Sefalika Nayak",
      "userId": "05006885756924519255"
     },
     "user_tz": -330
    },
    "id": "C6G2uu8YgDj4"
   },
   "outputs": [],
   "source": [
    "x = df['text']"
   ]
  },
  {
   "cell_type": "code",
   "execution_count": 31,
   "metadata": {
    "colab": {
     "base_uri": "https://localhost:8080/"
    },
    "executionInfo": {
     "elapsed": 695,
     "status": "ok",
     "timestamp": 1698905148315,
     "user": {
      "displayName": "Sefalika Nayak",
      "userId": "05006885756924519255"
     },
     "user_tz": -330
    },
    "id": "n3KYgnLsgDgg",
    "outputId": "6ec3fd53-4e55-4808-8784-d89b482a7d88"
   },
   "outputs": [
    {
     "data": {
      "text/plain": [
       "0      info found pages mb pdf files wait untill team...\n",
       "2      het kader van kernfusie op aarde maak je eigen...\n",
       "3                                        testing testing\n",
       "4      thanks yahoo toolbar capture urls popups means...\n",
       "5      interesting conversation dad morning talking k...\n",
       "                             ...                        \n",
       "995                   urllink doggy bed need say urllink\n",
       "996    ah yes summer olympics halfway settled familia...\n",
       "997    current music could magic donna summer feeling...\n",
       "998    hey one many things expression zone hope updat...\n",
       "999    well today going okay applied jobs done bills ...\n",
       "Name: text, Length: 972, dtype: object"
      ]
     },
     "execution_count": 31,
     "metadata": {},
     "output_type": "execute_result"
    }
   ],
   "source": [
    "x"
   ]
  },
  {
   "cell_type": "code",
   "execution_count": 32,
   "metadata": {
    "executionInfo": {
     "elapsed": 8,
     "status": "ok",
     "timestamp": 1698905158390,
     "user": {
      "displayName": "Sefalika Nayak",
      "userId": "05006885756924519255"
     },
     "user_tz": -330
    },
    "id": "lYVXrSJhgDdU"
   },
   "outputs": [],
   "source": [
    "y = df['topic']"
   ]
  },
  {
   "cell_type": "code",
   "execution_count": 33,
   "metadata": {
    "colab": {
     "base_uri": "https://localhost:8080/"
    },
    "executionInfo": {
     "elapsed": 9,
     "status": "ok",
     "timestamp": 1698905164729,
     "user": {
      "displayName": "Sefalika Nayak",
      "userId": "05006885756924519255"
     },
     "user_tz": -330
    },
    "id": "LADZNqVvgDZZ",
    "outputId": "c48e8dac-7a7e-46db-8293-bd37a7f8d08e"
   },
   "outputs": [
    {
     "data": {
      "text/plain": [
       "0                Student\n",
       "2                Student\n",
       "3                Student\n",
       "4      InvestmentBanking\n",
       "5      InvestmentBanking\n",
       "             ...        \n",
       "995               indUnk\n",
       "996               indUnk\n",
       "997                 Arts\n",
       "998                 Arts\n",
       "999               indUnk\n",
       "Name: topic, Length: 972, dtype: object"
      ]
     },
     "execution_count": 33,
     "metadata": {},
     "output_type": "execute_result"
    }
   ],
   "source": [
    "y"
   ]
  },
  {
   "cell_type": "markdown",
   "metadata": {
    "id": "C1zfYs6do8Vk"
   },
   "source": [
    "**Q3.B Split data into train and test.**"
   ]
  },
  {
   "cell_type": "code",
   "execution_count": 34,
   "metadata": {
    "executionInfo": {
     "elapsed": 690,
     "status": "ok",
     "timestamp": 1698905201861,
     "user": {
      "displayName": "Sefalika Nayak",
      "userId": "05006885756924519255"
     },
     "user_tz": -330
    },
    "id": "ECIgiEsNgDVP"
   },
   "outputs": [],
   "source": [
    "from sklearn.model_selection import train_test_split"
   ]
  },
  {
   "cell_type": "code",
   "execution_count": 35,
   "metadata": {
    "executionInfo": {
     "elapsed": 674,
     "status": "ok",
     "timestamp": 1698905211449,
     "user": {
      "displayName": "Sefalika Nayak",
      "userId": "05006885756924519255"
     },
     "user_tz": -330
    },
    "id": "otknTHYzgDO5"
   },
   "outputs": [],
   "source": [
    "x_train, x_test, y_train, y_test = train_test_split(x,y,test_size=0.2, random_state = 77)"
   ]
  },
  {
   "cell_type": "markdown",
   "metadata": {
    "id": "EJErLKK7pLbl"
   },
   "source": [
    "**Q3.C Vectorize data using any one vectorizer.**"
   ]
  },
  {
   "cell_type": "code",
   "execution_count": 36,
   "metadata": {
    "executionInfo": {
     "elapsed": 2861,
     "status": "ok",
     "timestamp": 1698905263440,
     "user": {
      "displayName": "Sefalika Nayak",
      "userId": "05006885756924519255"
     },
     "user_tz": -330
    },
    "id": "CqUSP_nigDLa"
   },
   "outputs": [],
   "source": [
    "from sklearn.feature_extraction.text import CountVectorizer\n",
    "\n",
    "vectorizer = CountVectorizer(binary=True, ngram_range=(1, 2))\n",
    "x_train_bow = vectorizer.fit_transform(x_train)\n",
    "x_test_bow = vectorizer.transform(x_test)"
   ]
  },
  {
   "cell_type": "code",
   "execution_count": 37,
   "metadata": {
    "executionInfo": {
     "elapsed": 586,
     "status": "ok",
     "timestamp": 1698905276150,
     "user": {
      "displayName": "Sefalika Nayak",
      "userId": "05006885756924519255"
     },
     "user_tz": -330
    },
    "id": "rA6F_59YgDHf"
   },
   "outputs": [],
   "source": [
    "from sklearn.preprocessing import LabelEncoder\n",
    "labelencoder = LabelEncoder()\n",
    "labelencoder.fit(y_train)\n",
    "y_train = labelencoder.transform(y_train)\n",
    "\n",
    "y_tests = labelencoder.transform(y_test)"
   ]
  },
  {
   "cell_type": "markdown",
   "metadata": {
    "id": "5B9vWgMzpaTt"
   },
   "source": [
    "**Q3.D Build a base model for Supervised Learning - Classification.**"
   ]
  },
  {
   "cell_type": "code",
   "execution_count": 38,
   "metadata": {
    "executionInfo": {
     "elapsed": 583,
     "status": "ok",
     "timestamp": 1698905319431,
     "user": {
      "displayName": "Sefalika Nayak",
      "userId": "05006885756924519255"
     },
     "user_tz": -330
    },
    "id": "AemyiWC6gDEB"
   },
   "outputs": [],
   "source": [
    "from sklearn.tree import DecisionTreeClassifier"
   ]
  },
  {
   "cell_type": "code",
   "execution_count": 39,
   "metadata": {
    "colab": {
     "base_uri": "https://localhost:8080/",
     "height": 75
    },
    "executionInfo": {
     "elapsed": 2340,
     "status": "ok",
     "timestamp": 1698905340811,
     "user": {
      "displayName": "Sefalika Nayak",
      "userId": "05006885756924519255"
     },
     "user_tz": -330
    },
    "id": "mK7go-7JpfQ8",
    "outputId": "1ce2c0a5-a0f8-4af9-e015-a7456bf40087"
   },
   "outputs": [
    {
     "data": {
      "text/html": [
       "<style>#sk-container-id-1 {color: black;background-color: white;}#sk-container-id-1 pre{padding: 0;}#sk-container-id-1 div.sk-toggleable {background-color: white;}#sk-container-id-1 label.sk-toggleable__label {cursor: pointer;display: block;width: 100%;margin-bottom: 0;padding: 0.3em;box-sizing: border-box;text-align: center;}#sk-container-id-1 label.sk-toggleable__label-arrow:before {content: \"▸\";float: left;margin-right: 0.25em;color: #696969;}#sk-container-id-1 label.sk-toggleable__label-arrow:hover:before {color: black;}#sk-container-id-1 div.sk-estimator:hover label.sk-toggleable__label-arrow:before {color: black;}#sk-container-id-1 div.sk-toggleable__content {max-height: 0;max-width: 0;overflow: hidden;text-align: left;background-color: #f0f8ff;}#sk-container-id-1 div.sk-toggleable__content pre {margin: 0.2em;color: black;border-radius: 0.25em;background-color: #f0f8ff;}#sk-container-id-1 input.sk-toggleable__control:checked~div.sk-toggleable__content {max-height: 200px;max-width: 100%;overflow: auto;}#sk-container-id-1 input.sk-toggleable__control:checked~label.sk-toggleable__label-arrow:before {content: \"▾\";}#sk-container-id-1 div.sk-estimator input.sk-toggleable__control:checked~label.sk-toggleable__label {background-color: #d4ebff;}#sk-container-id-1 div.sk-label input.sk-toggleable__control:checked~label.sk-toggleable__label {background-color: #d4ebff;}#sk-container-id-1 input.sk-hidden--visually {border: 0;clip: rect(1px 1px 1px 1px);clip: rect(1px, 1px, 1px, 1px);height: 1px;margin: -1px;overflow: hidden;padding: 0;position: absolute;width: 1px;}#sk-container-id-1 div.sk-estimator {font-family: monospace;background-color: #f0f8ff;border: 1px dotted black;border-radius: 0.25em;box-sizing: border-box;margin-bottom: 0.5em;}#sk-container-id-1 div.sk-estimator:hover {background-color: #d4ebff;}#sk-container-id-1 div.sk-parallel-item::after {content: \"\";width: 100%;border-bottom: 1px solid gray;flex-grow: 1;}#sk-container-id-1 div.sk-label:hover label.sk-toggleable__label {background-color: #d4ebff;}#sk-container-id-1 div.sk-serial::before {content: \"\";position: absolute;border-left: 1px solid gray;box-sizing: border-box;top: 0;bottom: 0;left: 50%;z-index: 0;}#sk-container-id-1 div.sk-serial {display: flex;flex-direction: column;align-items: center;background-color: white;padding-right: 0.2em;padding-left: 0.2em;position: relative;}#sk-container-id-1 div.sk-item {position: relative;z-index: 1;}#sk-container-id-1 div.sk-parallel {display: flex;align-items: stretch;justify-content: center;background-color: white;position: relative;}#sk-container-id-1 div.sk-item::before, #sk-container-id-1 div.sk-parallel-item::before {content: \"\";position: absolute;border-left: 1px solid gray;box-sizing: border-box;top: 0;bottom: 0;left: 50%;z-index: -1;}#sk-container-id-1 div.sk-parallel-item {display: flex;flex-direction: column;z-index: 1;position: relative;background-color: white;}#sk-container-id-1 div.sk-parallel-item:first-child::after {align-self: flex-end;width: 50%;}#sk-container-id-1 div.sk-parallel-item:last-child::after {align-self: flex-start;width: 50%;}#sk-container-id-1 div.sk-parallel-item:only-child::after {width: 0;}#sk-container-id-1 div.sk-dashed-wrapped {border: 1px dashed gray;margin: 0 0.4em 0.5em 0.4em;box-sizing: border-box;padding-bottom: 0.4em;background-color: white;}#sk-container-id-1 div.sk-label label {font-family: monospace;font-weight: bold;display: inline-block;line-height: 1.2em;}#sk-container-id-1 div.sk-label-container {text-align: center;}#sk-container-id-1 div.sk-container {/* jupyter's `normalize.less` sets `[hidden] { display: none; }` but bootstrap.min.css set `[hidden] { display: none !important; }` so we also need the `!important` here to be able to override the default hidden behavior on the sphinx rendered scikit-learn.org. See: https://github.com/scikit-learn/scikit-learn/issues/21755 */display: inline-block !important;position: relative;}#sk-container-id-1 div.sk-text-repr-fallback {display: none;}</style><div id=\"sk-container-id-1\" class=\"sk-top-container\"><div class=\"sk-text-repr-fallback\"><pre>DecisionTreeClassifier()</pre><b>In a Jupyter environment, please rerun this cell to show the HTML representation or trust the notebook. <br />On GitHub, the HTML representation is unable to render, please try loading this page with nbviewer.org.</b></div><div class=\"sk-container\" hidden><div class=\"sk-item\"><div class=\"sk-estimator sk-toggleable\"><input class=\"sk-toggleable__control sk-hidden--visually\" id=\"sk-estimator-id-1\" type=\"checkbox\" checked><label for=\"sk-estimator-id-1\" class=\"sk-toggleable__label sk-toggleable__label-arrow\">DecisionTreeClassifier</label><div class=\"sk-toggleable__content\"><pre>DecisionTreeClassifier()</pre></div></div></div></div></div>"
      ],
      "text/plain": [
       "DecisionTreeClassifier()"
      ]
     },
     "execution_count": 39,
     "metadata": {},
     "output_type": "execute_result"
    }
   ],
   "source": [
    "dt_classifier = DecisionTreeClassifier()\n",
    "dt_classifier.fit(x_train_bow,y_train)"
   ]
  },
  {
   "cell_type": "code",
   "execution_count": 41,
   "metadata": {
    "executionInfo": {
     "elapsed": 722,
     "status": "ok",
     "timestamp": 1698905360549,
     "user": {
      "displayName": "Sefalika Nayak",
      "userId": "05006885756924519255"
     },
     "user_tz": -330
    },
    "id": "tbebK4qeplpV"
   },
   "outputs": [],
   "source": [
    "predicted_labels = dt_classifier.predict(x_test_bow)"
   ]
  },
  {
   "cell_type": "code",
   "execution_count": 42,
   "metadata": {
    "executionInfo": {
     "elapsed": 902,
     "status": "ok",
     "timestamp": 1698905389678,
     "user": {
      "displayName": "Sefalika Nayak",
      "userId": "05006885756924519255"
     },
     "user_tz": -330
    },
    "id": "CNRfqArEgDAA"
   },
   "outputs": [],
   "source": [
    "pred_inversed = labelencoder.inverse_transform(predicted_labels)\n",
    "y_test_inversed = labelencoder.inverse_transform(y_tests)"
   ]
  },
  {
   "cell_type": "markdown",
   "metadata": {
    "id": "ITNV8pzXpXuN"
   },
   "source": [
    "**Q3.E Clearly print Performance Metrics.**\n",
    "\n",
    "    Hint: Accuracy, Precision, Recall, ROC-AUC"
   ]
  },
  {
   "cell_type": "code",
   "execution_count": 43,
   "metadata": {
    "executionInfo": {
     "elapsed": 785,
     "status": "ok",
     "timestamp": 1698905430718,
     "user": {
      "displayName": "Sefalika Nayak",
      "userId": "05006885756924519255"
     },
     "user_tz": -330
    },
    "id": "4zaTRHXEgCzX"
   },
   "outputs": [],
   "source": [
    "def print_evaluation_scores(y_val, predicted):\n",
    "    print('Accuracy score: ', accuracy_score(y_val, predicted))\n",
    "    print('F1 score: ', f1_score(y_val, predicted, average='micro'))\n",
    "    print('Average precision score: ', precision_score(y_val, predicted, average='micro'))\n",
    "    print('Average recall score: ', recall_score(y_val, predicted, average='micro'))"
   ]
  },
  {
   "cell_type": "code",
   "execution_count": 44,
   "metadata": {
    "colab": {
     "base_uri": "https://localhost:8080/"
    },
    "executionInfo": {
     "elapsed": 725,
     "status": "ok",
     "timestamp": 1698905443321,
     "user": {
      "displayName": "Sefalika Nayak",
      "userId": "05006885756924519255"
     },
     "user_tz": -330
    },
    "id": "BnsW13Z-Q08o",
    "outputId": "edc87ded-c037-497f-bb33-72ea42d51269"
   },
   "outputs": [
    {
     "name": "stdout",
     "output_type": "stream",
     "text": [
      "Accuracy score:  0.5743589743589743\n",
      "F1 score:  0.5743589743589743\n",
      "Average precision score:  0.5743589743589743\n",
      "Average recall score:  0.5743589743589743\n"
     ]
    }
   ],
   "source": [
    "print_evaluation_scores(y_test_inversed,pred_inversed)"
   ]
  },
  {
   "cell_type": "markdown",
   "metadata": {
    "id": "_BKaLq7BqBiY"
   },
   "source": [
    "**Q4. Improve Performance of model.**"
   ]
  },
  {
   "cell_type": "code",
   "execution_count": 46,
   "metadata": {
    "executionInfo": {
     "elapsed": 616,
     "status": "ok",
     "timestamp": 1698905479498,
     "user": {
      "displayName": "Sefalika Nayak",
      "userId": "05006885756924519255"
     },
     "user_tz": -330
    },
    "id": "QJt5b_X2Qzcy"
   },
   "outputs": [],
   "source": [
    "x = df['text']\n",
    "y = df['topic']"
   ]
  },
  {
   "cell_type": "code",
   "execution_count": 47,
   "metadata": {
    "executionInfo": {
     "elapsed": 765,
     "status": "ok",
     "timestamp": 1698905502412,
     "user": {
      "displayName": "Sefalika Nayak",
      "userId": "05006885756924519255"
     },
     "user_tz": -330
    },
    "id": "5qTUpbgIqJRW"
   },
   "outputs": [],
   "source": [
    "x_train, x_test, y_train, y_test = train_test_split(x,y,test_size=0.2, random_state = 77)"
   ]
  },
  {
   "cell_type": "markdown",
   "metadata": {
    "id": "wf6GY7DUqQ6b"
   },
   "source": [
    "**Q4.A Experiment with other vectorisers.**"
   ]
  },
  {
   "cell_type": "code",
   "execution_count": 48,
   "metadata": {
    "colab": {
     "base_uri": "https://localhost:8080/"
    },
    "executionInfo": {
     "elapsed": 3624,
     "status": "ok",
     "timestamp": 1698905555775,
     "user": {
      "displayName": "Sefalika Nayak",
      "userId": "05006885756924519255"
     },
     "user_tz": -330
    },
    "id": "F4iEvEtLqJPL",
    "outputId": "5afe1cec-ba17-40dd-981c-661c5898340b"
   },
   "outputs": [
    {
     "name": "stdout",
     "output_type": "stream",
     "text": [
      "Accuracy score:  0.5846153846153846\n",
      "F1 score:  0.5846153846153846\n",
      "Average precision score:  0.5846153846153846\n",
      "Average recall score:  0.5846153846153846\n"
     ]
    }
   ],
   "source": [
    "# attempting Tf-IDF vectorizer\n",
    "from sklearn.feature_extraction.text import TfidfVectorizer\n",
    "tfidf = TfidfVectorizer()\n",
    "vectorizer = TfidfVectorizer(ngram_range=(1, 2))\n",
    "x_train_idf = vectorizer.fit_transform(x_train)\n",
    "x_test_idf = vectorizer.transform(x_test)\n",
    "\n",
    "labelencoder.fit(y_train)\n",
    "y_train = labelencoder.transform(y_train)\n",
    "y_tests = labelencoder.transform(y_test)\n",
    "dt_classifier = DecisionTreeClassifier()\n",
    "dt_classifier.fit(x_train_idf,y_train)\n",
    "predicted_labels = dt_classifier.predict(x_test_idf)\n",
    "\n",
    "pred_inversed = labelencoder.inverse_transform(predicted_labels)\n",
    "y_test_inversed = labelencoder.inverse_transform(y_tests)\n",
    "\n",
    "print_evaluation_scores(y_test_inversed,pred_inversed)"
   ]
  },
  {
   "cell_type": "markdown",
   "metadata": {
    "id": "EcUex_L8qdx1"
   },
   "source": [
    "**Q4.B Build classifier Models using other algorithms than base model.**"
   ]
  },
  {
   "cell_type": "code",
   "execution_count": 59,
   "metadata": {
    "colab": {
     "base_uri": "https://localhost:8080/"
    },
    "executionInfo": {
     "elapsed": 37609,
     "status": "ok",
     "timestamp": 1698906055869,
     "user": {
      "displayName": "Sefalika Nayak",
      "userId": "05006885756924519255"
     },
     "user_tz": -330
    },
    "id": "yTB6VLSwqJLM",
    "outputId": "8abec592-3c63-4e33-dcde-2307dd897861"
   },
   "outputs": [
    {
     "name": "stderr",
     "output_type": "stream",
     "text": [
      "/usr/local/lib/python3.10/dist-packages/sklearn/linear_model/_logistic.py:458: ConvergenceWarning: lbfgs failed to converge (status=1):\n",
      "STOP: TOTAL NO. of ITERATIONS REACHED LIMIT.\n",
      "\n",
      "Increase the number of iterations (max_iter) or scale the data as shown in:\n",
      "    https://scikit-learn.org/stable/modules/preprocessing.html\n",
      "Please also refer to the documentation for alternative solver options:\n",
      "    https://scikit-learn.org/stable/modules/linear_model.html#logistic-regression\n",
      "  n_iter_i = _check_optimize_result(\n"
     ]
    }
   ],
   "source": [
    "# Attempting Logistic Regression Classifier\n",
    "rf_classifier = LogisticRegression()\n",
    "rf_classifier.fit(x_train_bow,y_train)\n",
    "predicted_labels = rf_classifier.predict(x_test_bow)\n",
    "pred_inversed = labelencoder.inverse_transform(predicted_labels)\n",
    "y_test_inversed = labelencoder.inverse_transform(y_tests)\n",
    "# print_evaluation_scores(y_test_inversed,pred_inversed)"
   ]
  },
  {
   "cell_type": "code",
   "execution_count": 60,
   "metadata": {
    "colab": {
     "base_uri": "https://localhost:8080/"
    },
    "executionInfo": {
     "elapsed": 554,
     "status": "ok",
     "timestamp": 1698906082316,
     "user": {
      "displayName": "Sefalika Nayak",
      "userId": "05006885756924519255"
     },
     "user_tz": -330
    },
    "id": "tnZev_L-sBaO",
    "outputId": "adc6cd26-aaa8-4145-b74a-ed06954a375a"
   },
   "outputs": [
    {
     "name": "stdout",
     "output_type": "stream",
     "text": [
      "Accuracy score:  0.6974358974358974\n",
      "F1 score:  0.6974358974358974\n",
      "Average precision score:  0.6974358974358974\n",
      "Average recall score:  0.6974358974358974\n"
     ]
    }
   ],
   "source": [
    "print_evaluation_scores(y_test_inversed,pred_inversed)"
   ]
  },
  {
   "cell_type": "code",
   "execution_count": 63,
   "metadata": {
    "executionInfo": {
     "elapsed": 569,
     "status": "ok",
     "timestamp": 1698906120482,
     "user": {
      "displayName": "Sefalika Nayak",
      "userId": "05006885756924519255"
     },
     "user_tz": -330
    },
    "id": "XMiZfz1qqJHk"
   },
   "outputs": [],
   "source": [
    "x = df['text']\n",
    "y = df['topic']\n",
    "\n",
    "x_train, x_test, y_train, y_test = train_test_split(x,y,test_size=0.2, random_state = 77)"
   ]
  },
  {
   "cell_type": "code",
   "execution_count": 64,
   "metadata": {
    "executionInfo": {
     "elapsed": 984,
     "status": "ok",
     "timestamp": 1698906124882,
     "user": {
      "displayName": "Sefalika Nayak",
      "userId": "05006885756924519255"
     },
     "user_tz": -330
    },
    "id": "7ScCcrwqqJEk"
   },
   "outputs": [],
   "source": [
    "from sklearn.feature_extraction.text import TfidfVectorizer\n",
    "tfidf = TfidfVectorizer()\n",
    "vectorizer = TfidfVectorizer(ngram_range=(1, 2))\n",
    "x_train_idf = vectorizer.fit_transform(x_train)\n",
    "x_test_idf = vectorizer.transform(x_test)\n",
    "\n",
    "labelencoder.fit(y_train)\n",
    "y_train = labelencoder.transform(y_train)\n",
    "y_tests = labelencoder.transform(y_test)"
   ]
  },
  {
   "cell_type": "code",
   "execution_count": 65,
   "metadata": {
    "executionInfo": {
     "elapsed": 1608,
     "status": "ok",
     "timestamp": 1698906131271,
     "user": {
      "displayName": "Sefalika Nayak",
      "userId": "05006885756924519255"
     },
     "user_tz": -330
    },
    "id": "i_GI2iLgqJA6"
   },
   "outputs": [],
   "source": [
    "x = vectorizer.fit_transform(x)\n",
    "y = vectorizer.fit_transform(y)"
   ]
  },
  {
   "cell_type": "code",
   "execution_count": 66,
   "metadata": {
    "colab": {
     "base_uri": "https://localhost:8080/"
    },
    "executionInfo": {
     "elapsed": 809,
     "status": "ok",
     "timestamp": 1698906134675,
     "user": {
      "displayName": "Sefalika Nayak",
      "userId": "05006885756924519255"
     },
     "user_tz": -330
    },
    "id": "6wIkYeSDqI8x",
    "outputId": "0783af1c-7108-4775-ae5e-8b23d037551f"
   },
   "outputs": [
    {
     "name": "stdout",
     "output_type": "stream",
     "text": [
      "Accuracy score:  0.7282051282051282\n",
      "F1 score:  0.7282051282051283\n",
      "Average precision score:  0.7282051282051282\n",
      "Average recall score:  0.7282051282051282\n"
     ]
    }
   ],
   "source": [
    "svc = LogisticRegression()\n",
    "rf_classifier = LogisticRegression(solver='liblinear')\n",
    "rf_classifier.fit(x_train_bow,y_train)\n",
    "predicted_labels = rf_classifier.predict(x_test_bow)\n",
    "pred_inversed = labelencoder.inverse_transform(predicted_labels)\n",
    "y_test_inversed = labelencoder.inverse_transform(y_tests)\n",
    "print_evaluation_scores(y_test_inversed,pred_inversed)"
   ]
  },
  {
   "cell_type": "code",
   "execution_count": 67,
   "metadata": {
    "colab": {
     "base_uri": "https://localhost:8080/"
    },
    "executionInfo": {
     "elapsed": 1549,
     "status": "ok",
     "timestamp": 1698906146763,
     "user": {
      "displayName": "Sefalika Nayak",
      "userId": "05006885756924519255"
     },
     "user_tz": -330
    },
    "id": "XyKJcgNqqI4Z",
    "outputId": "35e5a37d-0cc3-4280-cd30-3ccf8bf3edff"
   },
   "outputs": [
    {
     "name": "stdout",
     "output_type": "stream",
     "text": [
      "Accuracy score:  0.7333333333333333\n",
      "F1 score:  0.7333333333333333\n",
      "Average precision score:  0.7333333333333333\n",
      "Average recall score:  0.7333333333333333\n"
     ]
    }
   ],
   "source": [
    "svc = LogisticRegression()\n",
    "rf_classifier = LogisticRegression(solver='liblinear',penalty='l1')\n",
    "rf_classifier.fit(x_train_bow,y_train)\n",
    "predicted_labels = rf_classifier.predict(x_test_bow)\n",
    "pred_inversed = labelencoder.inverse_transform(predicted_labels)\n",
    "y_test_inversed = labelencoder.inverse_transform(y_tests)\n",
    "print_evaluation_scores(y_test_inversed,pred_inversed)"
   ]
  },
  {
   "cell_type": "markdown",
   "metadata": {
    "id": "XZDbxPmYrm_6"
   },
   "source": [
    "**Q4.C Tune Parameters/Hyperparameters of the model/s.**"
   ]
  },
  {
   "cell_type": "code",
   "execution_count": 68,
   "metadata": {
    "colab": {
     "base_uri": "https://localhost:8080/"
    },
    "executionInfo": {
     "elapsed": 1764,
     "status": "ok",
     "timestamp": 1698906155294,
     "user": {
      "displayName": "Sefalika Nayak",
      "userId": "05006885756924519255"
     },
     "user_tz": -330
    },
    "id": "wOLmvPJFqIxN",
    "outputId": "ee9aa430-bf0b-45b4-e748-0d7f8c58d2fe"
   },
   "outputs": [
    {
     "name": "stdout",
     "output_type": "stream",
     "text": [
      "Accuracy score:  0.8153846153846154\n",
      "F1 score:  0.8153846153846154\n",
      "Average precision score:  0.8153846153846154\n",
      "Average recall score:  0.8153846153846154\n"
     ]
    }
   ],
   "source": [
    "svc = LogisticRegression()\n",
    "rf_classifier = LogisticRegression(solver='liblinear',penalty='l1',C=225)\n",
    "rf_classifier.fit(x_train_bow,y_train)\n",
    "predicted_labels = rf_classifier.predict(x_test_bow)\n",
    "pred_inversed = labelencoder.inverse_transform(predicted_labels)\n",
    "y_test_inversed = labelencoder.inverse_transform(y_tests)\n",
    "print_evaluation_scores(y_test_inversed,pred_inversed)"
   ]
  },
  {
   "cell_type": "markdown",
   "metadata": {
    "id": "IIKEurQOrup1"
   },
   "source": [
    "**Q4.D. Clearly print Performance Metrics.**\n",
    "\n",
    "        Hint: Accuracy, Precision, Recall, ROC-AUC"
   ]
  },
  {
   "cell_type": "code",
   "execution_count": 69,
   "metadata": {
    "colab": {
     "base_uri": "https://localhost:8080/"
    },
    "executionInfo": {
     "elapsed": 601,
     "status": "ok",
     "timestamp": 1698906164220,
     "user": {
      "displayName": "Sefalika Nayak",
      "userId": "05006885756924519255"
     },
     "user_tz": -330
    },
    "id": "Lu8b6sAsqIrG",
    "outputId": "1e2f2ec1-9478-4684-e48e-b2249229a7ce"
   },
   "outputs": [
    {
     "name": "stdout",
     "output_type": "stream",
     "text": [
      "Accuracy score:  0.8153846153846154\n",
      "F1 score:  0.8153846153846154\n",
      "Average precision score:  0.8153846153846154\n",
      "Average recall score:  0.8153846153846154\n"
     ]
    }
   ],
   "source": [
    "print_evaluation_scores(y_test_inversed,pred_inversed)"
   ]
  },
  {
   "cell_type": "markdown",
   "metadata": {
    "id": "UjathFfVsxDX"
   },
   "source": [
    "**Conclusion:**\n",
    "\n",
    "    1. With CountVectorizer and DecisionTree Classifier, Accuracy is ~ 56%\n",
    "    2. With TF-IDF Vectorizer and Logistic regression with tuned parameters, Accuracy has gone up to ~78%\n",
    "    3. Accuracy is improved by ~22%."
   ]
  },
  {
   "cell_type": "markdown",
   "metadata": {
    "id": "ITy3gHn_teHg"
   },
   "source": []
  },
  {
   "cell_type": "markdown",
   "metadata": {
    "id": "TG7UQjv2s7jM"
   },
   "source": [
    "**Q5. Share insights on relative performance comparison**\n",
    "\n",
    "**Q5.A. Which vectorizer performed better? Probable reason?.**"
   ]
  },
  {
   "cell_type": "markdown",
   "metadata": {
    "id": "jpNnb06xtJjH"
   },
   "source": [
    "    Amongst Countvectorizer and TF-IDF vectorizer, TF-IDF has performed better.\n",
    "\n",
    "    Probable reason colud be TF-IDF vectorizer could have identified significant terms for the documents giving more weightage to those.\n",
    "    Hence improved results."
   ]
  },
  {
   "cell_type": "markdown",
   "metadata": {
    "id": "zwadUS_ytZ0Z"
   },
   "source": [
    "**Q5.B. Which model outperformed? Probable reason?**"
   ]
  },
  {
   "cell_type": "markdown",
   "metadata": {
    "id": "VF7-D6Bwti25"
   },
   "source": [
    "    Amongst Decision Tree and Logistic Regression attempted in this assignment, Logistic Regression performed better.\n",
    "\n",
    "    Probable reason could be vectorised data is getting well classified on Signmoid curve than Decision Tree."
   ]
  },
  {
   "cell_type": "markdown",
   "metadata": {
    "id": "ALwA_7SVtr_Q"
   },
   "source": [
    "**Q5.C. Which parameter/hyperparameter significantly helped to improve performance?Probable reason?.**"
   ]
  },
  {
   "cell_type": "markdown",
   "metadata": {
    "id": "DsqJs6ZKtvyR"
   },
   "source": [
    "**Significant parameters which helped to improve performance:**\n",
    "\n",
    "    * Logistic Regression:\n",
    "\n",
    "    1. Solver = liblinear - Works better for smaller datasets\n",
    "    2. penalty = l1 - To apply 'l1' regularization\n",
    "    3. C = 225 - Inverse of Regularization strength - Results improved when C increased. i.e. regularization strength weakened."
   ]
  },
  {
   "cell_type": "markdown",
   "metadata": {
    "id": "BlIF7MEqud2H"
   },
   "source": [
    "**Q5.D. According to you, which performance metric should be given most importance, why?.**\n",
    "\n",
    "      In my opinion, Accuracy should be given highest priority followed by Recall since one\n",
    "      should not waste time in analyzing blogs which does not belong to topic of interest."
   ]
  },
  {
   "cell_type": "markdown",
   "metadata": {
    "id": "c-iuWbEdu4XR"
   },
   "source": [
    "# **Part B**"
   ]
  },
  {
   "cell_type": "markdown",
   "metadata": {
    "id": "a1wlZGtZvJU6"
   },
   "source": [
    "### **• DOMAIN: Customer support**\n",
    "### **• CONTEXT:**\n",
    "      Great Learning has a an academic support department which receives numerous support requests every day throughout the year. Teams are spread across geographies and try to provide support round the year. Sometimes there are circumstances where due to heavy workload certain request resolutions are delayed, impacting company’s business. Some of the requests are very generic where a proper resolution procedure delivered to the user can solve the problem. Company is looking forward to design an automation which can interact with the user, understand the problem and display the resolution procedure [ if found as a generic request ] or redirect the request to an actual human support executive if the request is complex or not in it’s database.\n",
    "\n",
    "### **• DATA DESCRIPTION:**\n",
    "      A sample corpus is attached for your reference. Please enhance/add more data to the corpus using your linguistics skills.\n",
    "\n",
    "### **• PROJECT OBJECTIVE:**\n",
    "      Design a python based interactive semi - rule based chatbot which can do the following:\n",
    "\n",
    "    1. Start chat session with greetings and ask what the user is looking for.\n",
    "\n",
    "    2. Accept dynamic text based questions from the user. Reply back with relevant answer from the designed corpus.\n",
    "\n",
    "    3. End the chat session only if the user requests to end else ask what the user is looking for. Loop continues till the user asks to end it.\n",
    "\n",
    "    Hint: There are a lot of techniques using which one can clean and prepare the data which can be used to train a ML/DL classifier.\n",
    "    Hence, it might require you to experiment, research, self learn and implement the above classifier. There might be many iterations between\n",
    "    hand building the corpus and designing the best fit text classifier. As the quality and quantity of corpus increases the model’s performance\n",
    "    i.e. abil[ity to answer right questions also increases.\n",
    "\n",
    "  **Reference:**\n",
    "  [https://www.mygreatlearning.com/blog/basics-of-building-an-artificial-intelligence-chatbot/](https://)\n",
    "     [](https://)\n",
    "\n",
    "**• Evaluation:**\n",
    "\n",
    "    Evaluator will use linguistics to twist and turn sentences to ask questions on the topics described in DATA DESCRIPTION\n",
    "    and check if the bot is giving relevant replies"
   ]
  },
  {
   "cell_type": "code",
   "execution_count": 90,
   "metadata": {
    "colab": {
     "base_uri": "https://localhost:8080/"
    },
    "executionInfo": {
     "elapsed": 4499,
     "status": "ok",
     "timestamp": 1698909852735,
     "user": {
      "displayName": "Sefalika Nayak",
      "userId": "05006885756924519255"
     },
     "user_tz": -330
    },
    "id": "ijUTztoEFA4L",
    "outputId": "0fd5f559-bd62-4574-d38e-e872562277a2"
   },
   "outputs": [
    {
     "name": "stdout",
     "output_type": "stream",
     "text": [
      "Drive already mounted at /content/drive; to attempt to forcibly remount, call drive.mount(\"/content/drive\", force_remount=True).\n"
     ]
    }
   ],
   "source": [
    "from google.colab import drive\n",
    "drive.mount('/content/drive')"
   ]
  },
  {
   "cell_type": "code",
   "execution_count": 95,
   "metadata": {
    "colab": {
     "base_uri": "https://localhost:8080/"
    },
    "executionInfo": {
     "elapsed": 859,
     "status": "ok",
     "timestamp": 1698910182064,
     "user": {
      "displayName": "Sefalika Nayak",
      "userId": "05006885756924519255"
     },
     "user_tz": -330
    },
    "id": "ZIhLvJtIFBi3",
    "outputId": "1b0d42df-3605-401c-b6f3-21fa28493ca1"
   },
   "outputs": [
    {
     "name": "stdout",
     "output_type": "stream",
     "text": [
      "/content/drive/MyDrive/NLP\n"
     ]
    }
   ],
   "source": [
    "%cd /content/drive/MyDrive/NLP"
   ]
  },
  {
   "cell_type": "code",
   "execution_count": 99,
   "metadata": {
    "colab": {
     "base_uri": "https://localhost:8080/"
    },
    "executionInfo": {
     "elapsed": 713,
     "status": "ok",
     "timestamp": 1698910602119,
     "user": {
      "displayName": "Sefalika Nayak",
      "userId": "05006885756924519255"
     },
     "user_tz": -330
    },
    "id": "uNn05sBsFAmT",
    "outputId": "87f172a6-716f-4164-e296-f2b1eae28143"
   },
   "outputs": [
    {
     "name": "stdout",
     "output_type": "stream",
     "text": [
      "fatal: destination path 'Tkinter-NLTK-Chatbot' already exists and is not an empty directory.\n"
     ]
    }
   ],
   "source": [
    "! git clone https://github.com/Sefalika/NLP/Tkinter-NLTK-Chatbot.git\n",
    "\n"
   ]
  },
  {
   "cell_type": "code",
   "execution_count": 100,
   "metadata": {
    "colab": {
     "base_uri": "https://localhost:8080/"
    },
    "executionInfo": {
     "elapsed": 709,
     "status": "ok",
     "timestamp": 1698910609846,
     "user": {
      "displayName": "Sefalika Nayak",
      "userId": "05006885756924519255"
     },
     "user_tz": -330
    },
    "id": "CizTutiwFAgr",
    "outputId": "b4871f5a-86b4-40bf-ca61-07da7cd43dd9"
   },
   "outputs": [
    {
     "name": "stdout",
     "output_type": "stream",
     "text": [
      "/content/drive/MyDrive/NLP/Tkinter-NLTK-Chatbot/Tkinter-NLTK-Chatbot\n"
     ]
    }
   ],
   "source": [
    "%cd /content/drive/MyDrive/NLP/Tkinter-NLTK-Chatbot/Tkinter-NLTK-Chatbot"
   ]
  },
  {
   "cell_type": "code",
   "execution_count": 101,
   "metadata": {
    "colab": {
     "base_uri": "https://localhost:8080/"
    },
    "executionInfo": {
     "elapsed": 842,
     "status": "ok",
     "timestamp": 1698910618786,
     "user": {
      "displayName": "Sefalika Nayak",
      "userId": "05006885756924519255"
     },
     "user_tz": -330
    },
    "id": "BsN-eZt6FAW0",
    "outputId": "7f0e57ff-0fda-42b9-d633-af375b92513a"
   },
   "outputs": [
    {
     "name": "stdout",
     "output_type": "stream",
     "text": [
      "Already up to date.\n"
     ]
    }
   ],
   "source": [
    "!git pull"
   ]
  },
  {
   "cell_type": "code",
   "execution_count": null,
   "metadata": {
    "colab": {
     "base_uri": "https://localhost:8080/"
    },
    "executionInfo": {
     "elapsed": 1454,
     "status": "ok",
     "timestamp": 1697701837222,
     "user": {
      "displayName": "Sefalika Nayak",
      "userId": "05006885756924519255"
     },
     "user_tz": -330
    },
    "id": "Qlf9X7Ga6htI",
    "outputId": "a74d08cc-1cb1-49ac-c220-c405840a3675"
   },
   "outputs": [
    {
     "name": "stdout",
     "output_type": "stream",
     "text": [
      "Cloning into 'Tkinter-NLTK-Chatbot'...\n",
      "remote: Enumerating objects: 29, done.\u001b[K\n",
      "remote: Counting objects: 100% (29/29), done.\u001b[K\n",
      "remote: Compressing objects: 100% (29/29), done.\u001b[K\n",
      "remote: Total 29 (delta 11), reused 0 (delta 0), pack-reused 0\u001b[K\n",
      "Receiving objects: 100% (29/29), 18.26 KiB | 2.28 MiB/s, done.\n",
      "Resolving deltas: 100% (11/11), done.\n"
     ]
    }
   ],
   "source": [
    "#! git clone https://github.com/vishal-verma27/Tkinter-NLTK-Chatbot.git"
   ]
  },
  {
   "cell_type": "markdown",
   "metadata": {
    "id": "IoooLIz07Fkj"
   },
   "source": [
    "## **Importing Libraries**"
   ]
  },
  {
   "cell_type": "code",
   "execution_count": 102,
   "metadata": {
    "executionInfo": {
     "elapsed": 7234,
     "status": "ok",
     "timestamp": 1698910682687,
     "user": {
      "displayName": "Sefalika Nayak",
      "userId": "05006885756924519255"
     },
     "user_tz": -330
    },
    "id": "siMXZF5L7fYq"
   },
   "outputs": [],
   "source": [
    "# import necessary libraries\n",
    "import warnings\n",
    "warnings.filterwarnings(\"ignore\")\n",
    "import nltk\n",
    "from nltk.stem import WordNetLemmatizer\n",
    "import json\n",
    "import pickle\n",
    "\n",
    "import numpy as np\n",
    "from tensorflow.keras.models import Sequential\n",
    "from tensorflow.keras.layers import Dense, Activation, Dropout\n",
    "from tensorflow.keras.optimizers import SGD\n",
    "import random\n",
    "from keras.models import load_model\n",
    "\n",
    "# create an object of WordNetLemmatizer\n",
    "lemmatizer = WordNetLemmatizer()\n",
    "\n",
    "# importing the GL Bot corpus file for pre-processing\n",
    "\n",
    "words=[]\n",
    "classes = []\n",
    "documents = []\n",
    "ignore_words = ['?', '!']\n",
    "data_file = open(\"GL Bot.json\").read()\n",
    "intents = json.loads(data_file)"
   ]
  },
  {
   "cell_type": "markdown",
   "metadata": {
    "id": "smS0-Zmo7PnL"
   },
   "source": [
    "# **Data Pre-Processing**"
   ]
  },
  {
   "cell_type": "code",
   "execution_count": 104,
   "metadata": {
    "colab": {
     "base_uri": "https://localhost:8080/"
    },
    "executionInfo": {
     "elapsed": 588,
     "status": "ok",
     "timestamp": 1698910820573,
     "user": {
      "displayName": "Sefalika Nayak",
      "userId": "05006885756924519255"
     },
     "user_tz": -330
    },
    "id": "TOXKGi3O7o3z",
    "outputId": "7883f78e-b3d3-4676-be6e-9753c75328bc"
   },
   "outputs": [
    {
     "name": "stderr",
     "output_type": "stream",
     "text": [
      "[nltk_data] Downloading package punkt to /root/nltk_data...\n",
      "[nltk_data]   Package punkt is already up-to-date!\n",
      "[nltk_data] Downloading package wordnet to /root/nltk_data...\n",
      "[nltk_data]   Package wordnet is already up-to-date!\n"
     ]
    }
   ],
   "source": [
    "# preprocessing the json data\n",
    "# tokenization\n",
    "nltk.download('punkt')\n",
    "nltk.download('wordnet')\n",
    "for intent in intents['intents']:\n",
    "    for pattern in intent['patterns']:\n",
    "\n",
    "        #tokenize each word\n",
    "        w = nltk.word_tokenize(pattern)\n",
    "        words.extend(w)\n",
    "        #add documents in the corpus\n",
    "        documents.append((w, intent['tag']))\n",
    "\n",
    "        # add to our classes list\n",
    "        if intent['tag'] not in classes:\n",
    "            classes.append(intent['tag'])"
   ]
  },
  {
   "cell_type": "code",
   "execution_count": 105,
   "metadata": {
    "colab": {
     "base_uri": "https://localhost:8080/"
    },
    "executionInfo": {
     "elapsed": 3710,
     "status": "ok",
     "timestamp": 1698910831541,
     "user": {
      "displayName": "Sefalika Nayak",
      "userId": "05006885756924519255"
     },
     "user_tz": -330
    },
    "id": "otNsvIFD-blz",
    "outputId": "190caf13-ce87-4040-8e76-e7da85889ff6"
   },
   "outputs": [
    {
     "name": "stdout",
     "output_type": "stream",
     "text": [
      "256 documents\n",
      "8 classes ['Bot', 'Exit', 'Intro', 'NN', 'Olympus', 'Profane', 'SL', 'Ticket']\n",
      "158 unique lemmatized words ['a', 'able', 'access', 'activation', 'ada', 'adam', 'aifl', 'aiml', 'am', 'an', 'ann', 'anyone', 'are', 'artificial', 'backward', 'bad', 'bagging', 'batch', 'bayes', 'belong', 'best', 'blended', 'bloody', 'boosting', 'bot', 'buddy', 'classification', 'contact', 'create', 'cross', 'cya', 'day', 'deep', 'did', 'diffult', 'do', 'ensemble', 'epoch', 'explain', 'first', 'for', 'forest', 'forward', 'from', 'function', 'good', 'goodbye', 'gradient', 'great', 'hate', 'have', 'hell', 'hello', 'help', 'helped', 'hey', 'hi', 'hidden', 'hour', 'how', 'hyper', 'i', 'imputer', 'in', 'intelligence', 'is', 'jerk', 'joke', 'knn', 'later', 'layer', 'learner', 'learning', 'leaving', 'link', 'listen', 'logistic', 'lot', 'machine', 'me', 'ml', 'my', 'naive', 'name', 'nb', 'net', 'network', 'neural', 'no', 'not', 'of', 'olympus', 'olypus', 'on', 'online', 'operation', 'opertions', 'otimizer', 'parameter', 'piece', 'please', 'pm', 'problem', 'propagation', 'random', 'regression', 'relu', 'screw', 'see', 'sgd', 'shit', 'sigmoid', 'sl', 'smart', 'softmax', 'solution', 'solved', 'stupid', 'supervised', 'svm', 'talking', 'teach', 'techb=niques', 'technique', 'thank', 'thanks', 'the', 'there', 'think', 'ticket', 'time', 'to', 'ton', 'too', 'tool', 'unable', 'understand', 'up', 'use', 'useless', 'validation', 'very', 'visible', 'wasted', 'weight', 'what', 'whats', 'when', 'who', 'whom', 'window', 'with', 'work', 'working', 'ya', 'yo', 'you', 'your']\n"
     ]
    }
   ],
   "source": [
    "# lemmatize, lower each word and remove duplicates\n",
    "\n",
    "words = [lemmatizer.lemmatize(w.lower()) for w in words if w not in ignore_words]\n",
    "words = sorted(list(set(words)))\n",
    "\n",
    "# sort classes\n",
    "classes = sorted(list(set(classes)))\n",
    "\n",
    "# documents = combination between patterns and intents\n",
    "print (len(documents), \"documents\")\n",
    "\n",
    "# classes = intents\n",
    "print (len(classes), \"classes\", classes)\n",
    "\n",
    "# words = all words, vocabulary\n",
    "print (len(words), \"unique lemmatized words\", words)\n",
    "\n",
    "# creating a pickle file to store the Python objects which we will use while predicting\n",
    "pickle.dump(words,open('words.pkl','wb'))\n",
    "pickle.dump(classes,open('classes.pkl','wb'))"
   ]
  },
  {
   "cell_type": "markdown",
   "metadata": {
    "id": "ZhDeUJU_-nxs"
   },
   "source": [
    "# **Creating Training Data**"
   ]
  },
  {
   "cell_type": "code",
   "execution_count": 106,
   "metadata": {
    "colab": {
     "base_uri": "https://localhost:8080/"
    },
    "executionInfo": {
     "elapsed": 960,
     "status": "ok",
     "timestamp": 1698910861343,
     "user": {
      "displayName": "Sefalika Nayak",
      "userId": "05006885756924519255"
     },
     "user_tz": -330
    },
    "id": "ujEoWJUg-l0T",
    "outputId": "cf20236d-4de3-4cbd-d6d1-a096e6c8003c"
   },
   "outputs": [
    {
     "name": "stdout",
     "output_type": "stream",
     "text": [
      "Training data created\n"
     ]
    }
   ],
   "source": [
    "# create our training data\n",
    "training = []\n",
    "\n",
    "# create an empty array for our output\n",
    "output_empty = [0] * len(classes)\n",
    "\n",
    "# training set, bag of words for each sentence\n",
    "for doc in documents:\n",
    "    # initialize our bag of words\n",
    "    bag = []\n",
    "    # list of tokenized words for the pattern\n",
    "    pattern_words = doc[0]\n",
    "\n",
    "    # lemmatize each word - create base word, in attempt to represent related words\n",
    "    pattern_words = [lemmatizer.lemmatize(word.lower()) for word in pattern_words]\n",
    "\n",
    "    # create our bag of words array with 1, if word match found in current pattern\n",
    "    for w in words:\n",
    "        bag.append(1) if w in pattern_words else bag.append(0)\n",
    "    # output is a '0' for each tag and '1' for current tag (for each pattern)\n",
    "    output_row = list(output_empty)\n",
    "    output_row[classes.index(doc[1])] = 1\n",
    "    training.append([bag, output_row])\n",
    "\n",
    "# shuffle features and converting it into numpy arrays\n",
    "random.shuffle(training)\n",
    "training = np.array(training)\n",
    "\n",
    "# create train and test lists\n",
    "train_x = list(training[:,0])\n",
    "train_y = list(training[:,1])\n",
    "\n",
    "print(\"Training data created\")"
   ]
  },
  {
   "cell_type": "markdown",
   "metadata": {
    "id": "hyQKTWNdBEbm"
   },
   "source": [
    "# **Creating NN Model**"
   ]
  },
  {
   "cell_type": "code",
   "execution_count": 107,
   "metadata": {
    "colab": {
     "base_uri": "https://localhost:8080/"
    },
    "executionInfo": {
     "elapsed": 43876,
     "status": "ok",
     "timestamp": 1698910918811,
     "user": {
      "displayName": "Sefalika Nayak",
      "userId": "05006885756924519255"
     },
     "user_tz": -330
    },
    "id": "KNsKaG2zBBoP",
    "outputId": "a3399ce8-b3f2-4acd-ded2-e5f96d7d537b"
   },
   "outputs": [
    {
     "name": "stdout",
     "output_type": "stream",
     "text": [
      "Epoch 1/200\n",
      "52/52 [==============================] - 1s 2ms/step - loss: 1.9628 - accuracy: 0.2383\n",
      "Epoch 2/200\n",
      "52/52 [==============================] - 0s 2ms/step - loss: 1.7940 - accuracy: 0.3008\n",
      "Epoch 3/200\n",
      "52/52 [==============================] - 0s 2ms/step - loss: 1.5389 - accuracy: 0.4336\n",
      "Epoch 4/200\n",
      "52/52 [==============================] - 0s 2ms/step - loss: 1.3366 - accuracy: 0.5703\n",
      "Epoch 5/200\n",
      "52/52 [==============================] - 0s 2ms/step - loss: 1.1085 - accuracy: 0.6094\n",
      "Epoch 6/200\n",
      "52/52 [==============================] - 0s 2ms/step - loss: 1.0026 - accuracy: 0.6523\n",
      "Epoch 7/200\n",
      "52/52 [==============================] - 0s 2ms/step - loss: 0.7653 - accuracy: 0.7695\n",
      "Epoch 8/200\n",
      "52/52 [==============================] - 0s 2ms/step - loss: 0.5794 - accuracy: 0.8320\n",
      "Epoch 9/200\n",
      "52/52 [==============================] - 0s 2ms/step - loss: 0.4722 - accuracy: 0.8828\n",
      "Epoch 10/200\n",
      "52/52 [==============================] - 0s 2ms/step - loss: 0.3547 - accuracy: 0.8906\n",
      "Epoch 11/200\n",
      "52/52 [==============================] - 0s 2ms/step - loss: 0.3198 - accuracy: 0.8984\n",
      "Epoch 12/200\n",
      "52/52 [==============================] - 0s 3ms/step - loss: 0.2491 - accuracy: 0.9492\n",
      "Epoch 13/200\n",
      "52/52 [==============================] - 0s 2ms/step - loss: 0.2378 - accuracy: 0.9336\n",
      "Epoch 14/200\n",
      "52/52 [==============================] - 0s 2ms/step - loss: 0.2270 - accuracy: 0.9297\n",
      "Epoch 15/200\n",
      "52/52 [==============================] - 0s 2ms/step - loss: 0.1752 - accuracy: 0.9531\n",
      "Epoch 16/200\n",
      "52/52 [==============================] - 0s 2ms/step - loss: 0.1482 - accuracy: 0.9688\n",
      "Epoch 17/200\n",
      "52/52 [==============================] - 0s 2ms/step - loss: 0.1322 - accuracy: 0.9609\n",
      "Epoch 18/200\n",
      "52/52 [==============================] - 0s 2ms/step - loss: 0.1233 - accuracy: 0.9648\n",
      "Epoch 19/200\n",
      "52/52 [==============================] - 0s 2ms/step - loss: 0.0947 - accuracy: 0.9688\n",
      "Epoch 20/200\n",
      "52/52 [==============================] - 0s 2ms/step - loss: 0.0865 - accuracy: 0.9805\n",
      "Epoch 21/200\n",
      "52/52 [==============================] - 0s 3ms/step - loss: 0.0985 - accuracy: 0.9844\n",
      "Epoch 22/200\n",
      "52/52 [==============================] - 0s 2ms/step - loss: 0.0688 - accuracy: 0.9844\n",
      "Epoch 23/200\n",
      "52/52 [==============================] - 0s 2ms/step - loss: 0.1101 - accuracy: 0.9609\n",
      "Epoch 24/200\n",
      "52/52 [==============================] - 0s 2ms/step - loss: 0.0797 - accuracy: 0.9805\n",
      "Epoch 25/200\n",
      "52/52 [==============================] - 0s 2ms/step - loss: 0.0553 - accuracy: 0.9883\n",
      "Epoch 26/200\n",
      "52/52 [==============================] - 0s 2ms/step - loss: 0.0563 - accuracy: 0.9961\n",
      "Epoch 27/200\n",
      "52/52 [==============================] - 0s 2ms/step - loss: 0.0672 - accuracy: 0.9727\n",
      "Epoch 28/200\n",
      "52/52 [==============================] - 0s 2ms/step - loss: 0.0817 - accuracy: 0.9844\n",
      "Epoch 29/200\n",
      "52/52 [==============================] - 0s 2ms/step - loss: 0.0663 - accuracy: 0.9805\n",
      "Epoch 30/200\n",
      "52/52 [==============================] - 0s 3ms/step - loss: 0.0456 - accuracy: 0.9922\n",
      "Epoch 31/200\n",
      "52/52 [==============================] - 0s 3ms/step - loss: 0.0656 - accuracy: 0.9766\n",
      "Epoch 32/200\n",
      "52/52 [==============================] - 0s 3ms/step - loss: 0.0911 - accuracy: 0.9805\n",
      "Epoch 33/200\n",
      "52/52 [==============================] - 0s 3ms/step - loss: 0.0516 - accuracy: 0.9922\n",
      "Epoch 34/200\n",
      "52/52 [==============================] - 0s 3ms/step - loss: 0.0439 - accuracy: 0.9961\n",
      "Epoch 35/200\n",
      "52/52 [==============================] - 0s 4ms/step - loss: 0.0452 - accuracy: 0.9844\n",
      "Epoch 36/200\n",
      "52/52 [==============================] - 0s 3ms/step - loss: 0.0384 - accuracy: 0.9922\n",
      "Epoch 37/200\n",
      "52/52 [==============================] - 0s 3ms/step - loss: 0.0315 - accuracy: 1.0000\n",
      "Epoch 38/200\n",
      "52/52 [==============================] - 0s 3ms/step - loss: 0.0406 - accuracy: 0.9961\n",
      "Epoch 39/200\n",
      "52/52 [==============================] - 0s 4ms/step - loss: 0.0272 - accuracy: 0.9922\n",
      "Epoch 40/200\n",
      "52/52 [==============================] - 0s 3ms/step - loss: 0.0322 - accuracy: 0.9922\n",
      "Epoch 41/200\n",
      "52/52 [==============================] - 0s 4ms/step - loss: 0.0211 - accuracy: 0.9922\n",
      "Epoch 42/200\n",
      "52/52 [==============================] - 0s 3ms/step - loss: 0.0426 - accuracy: 0.9883\n",
      "Epoch 43/200\n",
      "52/52 [==============================] - 0s 3ms/step - loss: 0.0497 - accuracy: 0.9883\n",
      "Epoch 44/200\n",
      "52/52 [==============================] - 0s 3ms/step - loss: 0.0413 - accuracy: 0.9922\n",
      "Epoch 45/200\n",
      "52/52 [==============================] - 0s 3ms/step - loss: 0.0226 - accuracy: 0.9961\n",
      "Epoch 46/200\n",
      "52/52 [==============================] - 0s 3ms/step - loss: 0.0257 - accuracy: 0.9922\n",
      "Epoch 47/200\n",
      "52/52 [==============================] - 0s 4ms/step - loss: 0.0350 - accuracy: 0.9922\n",
      "Epoch 48/200\n",
      "52/52 [==============================] - 0s 4ms/step - loss: 0.0353 - accuracy: 0.9961\n",
      "Epoch 49/200\n",
      "52/52 [==============================] - 0s 3ms/step - loss: 0.0153 - accuracy: 1.0000\n",
      "Epoch 50/200\n",
      "52/52 [==============================] - 0s 3ms/step - loss: 0.0137 - accuracy: 1.0000\n",
      "Epoch 51/200\n",
      "52/52 [==============================] - 0s 3ms/step - loss: 0.0297 - accuracy: 0.9922\n",
      "Epoch 52/200\n",
      "52/52 [==============================] - 0s 2ms/step - loss: 0.0168 - accuracy: 0.9961\n",
      "Epoch 53/200\n",
      "52/52 [==============================] - 0s 3ms/step - loss: 0.0128 - accuracy: 1.0000\n",
      "Epoch 54/200\n",
      "52/52 [==============================] - 0s 2ms/step - loss: 0.0207 - accuracy: 0.9961\n",
      "Epoch 55/200\n",
      "52/52 [==============================] - 0s 2ms/step - loss: 0.0315 - accuracy: 0.9922\n",
      "Epoch 56/200\n",
      "52/52 [==============================] - 0s 2ms/step - loss: 0.0228 - accuracy: 1.0000\n",
      "Epoch 57/200\n",
      "52/52 [==============================] - 0s 2ms/step - loss: 0.0253 - accuracy: 0.9961\n",
      "Epoch 58/200\n",
      "52/52 [==============================] - 0s 2ms/step - loss: 0.0195 - accuracy: 1.0000\n",
      "Epoch 59/200\n",
      "52/52 [==============================] - 0s 2ms/step - loss: 0.0164 - accuracy: 1.0000\n",
      "Epoch 60/200\n",
      "52/52 [==============================] - 0s 2ms/step - loss: 0.0326 - accuracy: 0.9883\n",
      "Epoch 61/200\n",
      "52/52 [==============================] - 0s 3ms/step - loss: 0.0260 - accuracy: 0.9922\n",
      "Epoch 62/200\n",
      "52/52 [==============================] - 0s 3ms/step - loss: 0.0131 - accuracy: 1.0000\n",
      "Epoch 63/200\n",
      "52/52 [==============================] - 0s 2ms/step - loss: 0.0253 - accuracy: 0.9961\n",
      "Epoch 64/200\n",
      "52/52 [==============================] - 0s 2ms/step - loss: 0.0458 - accuracy: 0.9961\n",
      "Epoch 65/200\n",
      "52/52 [==============================] - 0s 2ms/step - loss: 0.0110 - accuracy: 1.0000\n",
      "Epoch 66/200\n",
      "52/52 [==============================] - 0s 2ms/step - loss: 0.0188 - accuracy: 0.9961\n",
      "Epoch 67/200\n",
      "52/52 [==============================] - 0s 3ms/step - loss: 0.0129 - accuracy: 1.0000\n",
      "Epoch 68/200\n",
      "52/52 [==============================] - 0s 2ms/step - loss: 0.0386 - accuracy: 0.9922\n",
      "Epoch 69/200\n",
      "52/52 [==============================] - 0s 2ms/step - loss: 0.0318 - accuracy: 0.9922\n",
      "Epoch 70/200\n",
      "52/52 [==============================] - 0s 2ms/step - loss: 0.0117 - accuracy: 0.9961\n",
      "Epoch 71/200\n",
      "52/52 [==============================] - 0s 2ms/step - loss: 0.0115 - accuracy: 0.9961\n",
      "Epoch 72/200\n",
      "52/52 [==============================] - 0s 2ms/step - loss: 0.0122 - accuracy: 0.9961\n",
      "Epoch 73/200\n",
      "52/52 [==============================] - 0s 2ms/step - loss: 0.0155 - accuracy: 0.9961\n",
      "Epoch 74/200\n",
      "52/52 [==============================] - 0s 2ms/step - loss: 0.0066 - accuracy: 1.0000\n",
      "Epoch 75/200\n",
      "52/52 [==============================] - 0s 2ms/step - loss: 0.0127 - accuracy: 1.0000\n",
      "Epoch 76/200\n",
      "52/52 [==============================] - 0s 2ms/step - loss: 0.0105 - accuracy: 1.0000\n",
      "Epoch 77/200\n",
      "52/52 [==============================] - 0s 3ms/step - loss: 0.0092 - accuracy: 1.0000\n",
      "Epoch 78/200\n",
      "52/52 [==============================] - 0s 2ms/step - loss: 0.0126 - accuracy: 1.0000\n",
      "Epoch 79/200\n",
      "52/52 [==============================] - 0s 2ms/step - loss: 0.0110 - accuracy: 1.0000\n",
      "Epoch 80/200\n",
      "52/52 [==============================] - 0s 2ms/step - loss: 0.0105 - accuracy: 1.0000\n",
      "Epoch 81/200\n",
      "52/52 [==============================] - 0s 2ms/step - loss: 0.0099 - accuracy: 1.0000\n",
      "Epoch 82/200\n",
      "52/52 [==============================] - 0s 2ms/step - loss: 0.0181 - accuracy: 1.0000\n",
      "Epoch 83/200\n",
      "52/52 [==============================] - 0s 2ms/step - loss: 0.0053 - accuracy: 1.0000\n",
      "Epoch 84/200\n",
      "52/52 [==============================] - 0s 2ms/step - loss: 0.0245 - accuracy: 0.9922\n",
      "Epoch 85/200\n",
      "52/52 [==============================] - 0s 2ms/step - loss: 0.0151 - accuracy: 0.9922\n",
      "Epoch 86/200\n",
      "52/52 [==============================] - 0s 2ms/step - loss: 0.0218 - accuracy: 0.9922\n",
      "Epoch 87/200\n",
      "52/52 [==============================] - 0s 2ms/step - loss: 0.0264 - accuracy: 0.9922\n",
      "Epoch 88/200\n",
      "52/52 [==============================] - 0s 2ms/step - loss: 0.0068 - accuracy: 1.0000\n",
      "Epoch 89/200\n",
      "52/52 [==============================] - 0s 2ms/step - loss: 0.0110 - accuracy: 0.9961\n",
      "Epoch 90/200\n",
      "52/52 [==============================] - 0s 2ms/step - loss: 0.0149 - accuracy: 0.9961\n",
      "Epoch 91/200\n",
      "52/52 [==============================] - 0s 2ms/step - loss: 0.0123 - accuracy: 0.9961\n",
      "Epoch 92/200\n",
      "52/52 [==============================] - 0s 2ms/step - loss: 0.0163 - accuracy: 0.9922\n",
      "Epoch 93/200\n",
      "52/52 [==============================] - 0s 2ms/step - loss: 0.0230 - accuracy: 0.9922\n",
      "Epoch 94/200\n",
      "52/52 [==============================] - 0s 2ms/step - loss: 0.0093 - accuracy: 1.0000\n",
      "Epoch 95/200\n",
      "52/52 [==============================] - 0s 2ms/step - loss: 0.0061 - accuracy: 1.0000\n",
      "Epoch 96/200\n",
      "52/52 [==============================] - 0s 2ms/step - loss: 0.0196 - accuracy: 0.9961\n",
      "Epoch 97/200\n",
      "52/52 [==============================] - 0s 2ms/step - loss: 0.0147 - accuracy: 0.9961\n",
      "Epoch 98/200\n",
      "52/52 [==============================] - 0s 2ms/step - loss: 0.0080 - accuracy: 1.0000\n",
      "Epoch 99/200\n",
      "52/52 [==============================] - 0s 2ms/step - loss: 0.0251 - accuracy: 0.9883\n",
      "Epoch 100/200\n",
      "52/52 [==============================] - 0s 2ms/step - loss: 0.0117 - accuracy: 1.0000\n",
      "Epoch 101/200\n",
      "52/52 [==============================] - 0s 2ms/step - loss: 0.0168 - accuracy: 0.9961\n",
      "Epoch 102/200\n",
      "52/52 [==============================] - 0s 2ms/step - loss: 0.0066 - accuracy: 1.0000\n",
      "Epoch 103/200\n",
      "52/52 [==============================] - 0s 2ms/step - loss: 0.0163 - accuracy: 0.9961\n",
      "Epoch 104/200\n",
      "52/52 [==============================] - 0s 2ms/step - loss: 0.0136 - accuracy: 1.0000\n",
      "Epoch 105/200\n",
      "52/52 [==============================] - 0s 2ms/step - loss: 0.0125 - accuracy: 0.9961\n",
      "Epoch 106/200\n",
      "52/52 [==============================] - 0s 2ms/step - loss: 0.0116 - accuracy: 1.0000\n",
      "Epoch 107/200\n",
      "52/52 [==============================] - 0s 2ms/step - loss: 0.0089 - accuracy: 1.0000\n",
      "Epoch 108/200\n",
      "52/52 [==============================] - 0s 2ms/step - loss: 0.0083 - accuracy: 0.9961\n",
      "Epoch 109/200\n",
      "52/52 [==============================] - 0s 2ms/step - loss: 0.0112 - accuracy: 0.9961\n",
      "Epoch 110/200\n",
      "52/52 [==============================] - 0s 2ms/step - loss: 0.0060 - accuracy: 1.0000\n",
      "Epoch 111/200\n",
      "52/52 [==============================] - 0s 2ms/step - loss: 0.0055 - accuracy: 1.0000\n",
      "Epoch 112/200\n",
      "52/52 [==============================] - 0s 2ms/step - loss: 0.0088 - accuracy: 1.0000\n",
      "Epoch 113/200\n",
      "52/52 [==============================] - 0s 2ms/step - loss: 0.0127 - accuracy: 0.9961\n",
      "Epoch 114/200\n",
      "52/52 [==============================] - 0s 2ms/step - loss: 0.0099 - accuracy: 0.9961\n",
      "Epoch 115/200\n",
      "52/52 [==============================] - 0s 2ms/step - loss: 0.0110 - accuracy: 1.0000\n",
      "Epoch 116/200\n",
      "52/52 [==============================] - 0s 2ms/step - loss: 0.0031 - accuracy: 1.0000\n",
      "Epoch 117/200\n",
      "52/52 [==============================] - 0s 2ms/step - loss: 0.0122 - accuracy: 0.9961\n",
      "Epoch 118/200\n",
      "52/52 [==============================] - 0s 2ms/step - loss: 0.0150 - accuracy: 0.9922\n",
      "Epoch 119/200\n",
      "52/52 [==============================] - 0s 2ms/step - loss: 0.0175 - accuracy: 0.9961\n",
      "Epoch 120/200\n",
      "52/52 [==============================] - 0s 2ms/step - loss: 0.0302 - accuracy: 0.9883\n",
      "Epoch 121/200\n",
      "52/52 [==============================] - 0s 2ms/step - loss: 0.0056 - accuracy: 1.0000\n",
      "Epoch 122/200\n",
      "52/52 [==============================] - 0s 2ms/step - loss: 0.0121 - accuracy: 0.9961\n",
      "Epoch 123/200\n",
      "52/52 [==============================] - 0s 2ms/step - loss: 0.0088 - accuracy: 1.0000\n",
      "Epoch 124/200\n",
      "52/52 [==============================] - 0s 2ms/step - loss: 0.0177 - accuracy: 0.9922\n",
      "Epoch 125/200\n",
      "52/52 [==============================] - 0s 2ms/step - loss: 0.0094 - accuracy: 1.0000\n",
      "Epoch 126/200\n",
      "52/52 [==============================] - 0s 2ms/step - loss: 0.0058 - accuracy: 1.0000\n",
      "Epoch 127/200\n",
      "52/52 [==============================] - 0s 3ms/step - loss: 0.0047 - accuracy: 1.0000\n",
      "Epoch 128/200\n",
      "52/52 [==============================] - 0s 2ms/step - loss: 0.0183 - accuracy: 0.9922\n",
      "Epoch 129/200\n",
      "52/52 [==============================] - 0s 2ms/step - loss: 0.0085 - accuracy: 0.9961\n",
      "Epoch 130/200\n",
      "52/52 [==============================] - 0s 2ms/step - loss: 0.0210 - accuracy: 0.9883\n",
      "Epoch 131/200\n",
      "52/52 [==============================] - 0s 4ms/step - loss: 0.0129 - accuracy: 0.9922\n",
      "Epoch 132/200\n",
      "52/52 [==============================] - 0s 3ms/step - loss: 0.0058 - accuracy: 1.0000\n",
      "Epoch 133/200\n",
      "52/52 [==============================] - 0s 3ms/step - loss: 0.0120 - accuracy: 0.9961\n",
      "Epoch 134/200\n",
      "52/52 [==============================] - 0s 4ms/step - loss: 0.0139 - accuracy: 0.9961\n",
      "Epoch 135/200\n",
      "52/52 [==============================] - 0s 4ms/step - loss: 0.0189 - accuracy: 0.9883\n",
      "Epoch 136/200\n",
      "52/52 [==============================] - 0s 3ms/step - loss: 0.0074 - accuracy: 1.0000\n",
      "Epoch 137/200\n",
      "52/52 [==============================] - 0s 4ms/step - loss: 0.0172 - accuracy: 0.9922\n",
      "Epoch 138/200\n",
      "52/52 [==============================] - 0s 3ms/step - loss: 0.0044 - accuracy: 1.0000\n",
      "Epoch 139/200\n",
      "52/52 [==============================] - 0s 3ms/step - loss: 0.0118 - accuracy: 1.0000\n",
      "Epoch 140/200\n",
      "52/52 [==============================] - 0s 3ms/step - loss: 0.0065 - accuracy: 1.0000\n",
      "Epoch 141/200\n",
      "52/52 [==============================] - 0s 3ms/step - loss: 0.0094 - accuracy: 1.0000\n",
      "Epoch 142/200\n",
      "52/52 [==============================] - 0s 3ms/step - loss: 0.0124 - accuracy: 0.9961\n",
      "Epoch 143/200\n",
      "52/52 [==============================] - 0s 3ms/step - loss: 0.0048 - accuracy: 1.0000\n",
      "Epoch 144/200\n",
      "52/52 [==============================] - 0s 3ms/step - loss: 0.0029 - accuracy: 1.0000\n",
      "Epoch 145/200\n",
      "52/52 [==============================] - 0s 3ms/step - loss: 0.0091 - accuracy: 1.0000\n",
      "Epoch 146/200\n",
      "52/52 [==============================] - 0s 3ms/step - loss: 0.0101 - accuracy: 0.9961\n",
      "Epoch 147/200\n",
      "52/52 [==============================] - 0s 3ms/step - loss: 0.0023 - accuracy: 1.0000\n",
      "Epoch 148/200\n",
      "52/52 [==============================] - 0s 3ms/step - loss: 0.0038 - accuracy: 1.0000\n",
      "Epoch 149/200\n",
      "52/52 [==============================] - 0s 3ms/step - loss: 0.0053 - accuracy: 1.0000\n",
      "Epoch 150/200\n",
      "52/52 [==============================] - 0s 3ms/step - loss: 0.0029 - accuracy: 1.0000\n",
      "Epoch 151/200\n",
      "52/52 [==============================] - 0s 3ms/step - loss: 0.0094 - accuracy: 1.0000\n",
      "Epoch 152/200\n",
      "52/52 [==============================] - 0s 4ms/step - loss: 0.0047 - accuracy: 1.0000\n",
      "Epoch 153/200\n",
      "52/52 [==============================] - 0s 3ms/step - loss: 0.0022 - accuracy: 1.0000\n",
      "Epoch 154/200\n",
      "52/52 [==============================] - 0s 3ms/step - loss: 0.0118 - accuracy: 0.9922\n",
      "Epoch 155/200\n",
      "52/52 [==============================] - 0s 2ms/step - loss: 0.0133 - accuracy: 1.0000\n",
      "Epoch 156/200\n",
      "52/52 [==============================] - 0s 2ms/step - loss: 0.0075 - accuracy: 1.0000\n",
      "Epoch 157/200\n",
      "52/52 [==============================] - 0s 2ms/step - loss: 0.0055 - accuracy: 1.0000\n",
      "Epoch 158/200\n",
      "52/52 [==============================] - 0s 2ms/step - loss: 0.0049 - accuracy: 1.0000\n",
      "Epoch 159/200\n",
      "52/52 [==============================] - 0s 2ms/step - loss: 0.0022 - accuracy: 1.0000\n",
      "Epoch 160/200\n",
      "52/52 [==============================] - 0s 2ms/step - loss: 0.0029 - accuracy: 1.0000\n",
      "Epoch 161/200\n",
      "52/52 [==============================] - 0s 2ms/step - loss: 0.0019 - accuracy: 1.0000\n",
      "Epoch 162/200\n",
      "52/52 [==============================] - 0s 2ms/step - loss: 0.0125 - accuracy: 0.9961\n",
      "Epoch 163/200\n",
      "52/52 [==============================] - 0s 2ms/step - loss: 0.0052 - accuracy: 0.9961\n",
      "Epoch 164/200\n",
      "52/52 [==============================] - 0s 2ms/step - loss: 0.0026 - accuracy: 1.0000\n",
      "Epoch 165/200\n",
      "52/52 [==============================] - 0s 2ms/step - loss: 0.0049 - accuracy: 1.0000\n",
      "Epoch 166/200\n",
      "52/52 [==============================] - 0s 2ms/step - loss: 0.0096 - accuracy: 0.9961\n",
      "Epoch 167/200\n",
      "52/52 [==============================] - 0s 2ms/step - loss: 0.0092 - accuracy: 0.9961\n",
      "Epoch 168/200\n",
      "52/52 [==============================] - 0s 2ms/step - loss: 0.0050 - accuracy: 1.0000\n",
      "Epoch 169/200\n",
      "52/52 [==============================] - 0s 2ms/step - loss: 0.0075 - accuracy: 0.9961\n",
      "Epoch 170/200\n",
      "52/52 [==============================] - 0s 2ms/step - loss: 0.0084 - accuracy: 0.9961\n",
      "Epoch 171/200\n",
      "52/52 [==============================] - 0s 2ms/step - loss: 0.0071 - accuracy: 1.0000\n",
      "Epoch 172/200\n",
      "52/52 [==============================] - 0s 2ms/step - loss: 0.0049 - accuracy: 1.0000\n",
      "Epoch 173/200\n",
      "52/52 [==============================] - 0s 2ms/step - loss: 0.0168 - accuracy: 0.9961\n",
      "Epoch 174/200\n",
      "52/52 [==============================] - 0s 2ms/step - loss: 0.0318 - accuracy: 0.9961\n",
      "Epoch 175/200\n",
      "52/52 [==============================] - 0s 2ms/step - loss: 0.0154 - accuracy: 0.9961\n",
      "Epoch 176/200\n",
      "52/52 [==============================] - 0s 2ms/step - loss: 0.0242 - accuracy: 0.9922\n",
      "Epoch 177/200\n",
      "52/52 [==============================] - 0s 2ms/step - loss: 0.0034 - accuracy: 1.0000\n",
      "Epoch 178/200\n",
      "52/52 [==============================] - 0s 2ms/step - loss: 0.0078 - accuracy: 1.0000\n",
      "Epoch 179/200\n",
      "52/52 [==============================] - 0s 2ms/step - loss: 0.0053 - accuracy: 1.0000\n",
      "Epoch 180/200\n",
      "52/52 [==============================] - 0s 2ms/step - loss: 0.0298 - accuracy: 0.9922\n",
      "Epoch 181/200\n",
      "52/52 [==============================] - 0s 2ms/step - loss: 0.0028 - accuracy: 1.0000\n",
      "Epoch 182/200\n",
      "52/52 [==============================] - 0s 2ms/step - loss: 0.0109 - accuracy: 1.0000\n",
      "Epoch 183/200\n",
      "52/52 [==============================] - 0s 3ms/step - loss: 0.0034 - accuracy: 1.0000\n",
      "Epoch 184/200\n",
      "52/52 [==============================] - 0s 2ms/step - loss: 0.0066 - accuracy: 1.0000\n",
      "Epoch 185/200\n",
      "52/52 [==============================] - 0s 2ms/step - loss: 0.0034 - accuracy: 1.0000\n",
      "Epoch 186/200\n",
      "52/52 [==============================] - 0s 2ms/step - loss: 0.0042 - accuracy: 1.0000\n",
      "Epoch 187/200\n",
      "52/52 [==============================] - 0s 2ms/step - loss: 0.0101 - accuracy: 0.9961\n",
      "Epoch 188/200\n",
      "52/52 [==============================] - 0s 2ms/step - loss: 0.0018 - accuracy: 1.0000\n",
      "Epoch 189/200\n",
      "52/52 [==============================] - 0s 2ms/step - loss: 0.0025 - accuracy: 1.0000\n",
      "Epoch 190/200\n",
      "52/52 [==============================] - 0s 2ms/step - loss: 0.0077 - accuracy: 0.9961\n",
      "Epoch 191/200\n",
      "52/52 [==============================] - 0s 2ms/step - loss: 0.0073 - accuracy: 1.0000\n",
      "Epoch 192/200\n",
      "52/52 [==============================] - 0s 2ms/step - loss: 0.0170 - accuracy: 0.9922\n",
      "Epoch 193/200\n",
      "52/52 [==============================] - 0s 2ms/step - loss: 0.0031 - accuracy: 1.0000\n",
      "Epoch 194/200\n",
      "52/52 [==============================] - 0s 2ms/step - loss: 0.0035 - accuracy: 1.0000\n",
      "Epoch 195/200\n",
      "52/52 [==============================] - 0s 2ms/step - loss: 0.0082 - accuracy: 0.9961\n",
      "Epoch 196/200\n",
      "52/52 [==============================] - 0s 2ms/step - loss: 0.0126 - accuracy: 0.9961\n",
      "Epoch 197/200\n",
      "52/52 [==============================] - 0s 2ms/step - loss: 0.0042 - accuracy: 1.0000\n",
      "Epoch 198/200\n",
      "52/52 [==============================] - 0s 3ms/step - loss: 0.0140 - accuracy: 0.9961\n",
      "Epoch 199/200\n",
      "52/52 [==============================] - 0s 2ms/step - loss: 0.0038 - accuracy: 1.0000\n",
      "Epoch 200/200\n",
      "52/52 [==============================] - 0s 2ms/step - loss: 0.0211 - accuracy: 0.9961\n",
      "\n",
      "\n",
      "**************************************************\n",
      "\n",
      "Model Created Successfully!\n"
     ]
    }
   ],
   "source": [
    "# Create NN model to predict the responses\n",
    "model = Sequential()\n",
    "model.add(Dense(128, input_shape=(len(train_x[0]),), activation='relu'))\n",
    "model.add(Dropout(0.5))\n",
    "model.add(Dense(64, activation='relu'))\n",
    "model.add(Dropout(0.5))\n",
    "model.add(Dense(len(train_y[0]), activation='softmax'))\n",
    "\n",
    "# Compile model. Stochastic gradient descent with Nesterov accelerated gradient gives good results for this model\n",
    "sgd = SGD(learning_rate=0.01, momentum=0.9, nesterov=True)\n",
    "model.compile(loss='categorical_crossentropy', optimizer=sgd, metrics=['accuracy'])\n",
    "\n",
    "#fitting and saving the model\n",
    "hist = model.fit(np.array(train_x), np.array(train_y), epochs=200, batch_size=5, verbose=1)\n",
    "model.save('chatbot.h5', hist) # we will pickle this model to use in the future\n",
    "print(\"\\n\")\n",
    "print(\"*\"*50)\n",
    "print(\"\\nModel Created Successfully!\")"
   ]
  },
  {
   "cell_type": "markdown",
   "metadata": {
    "id": "9456UyjSCa76"
   },
   "source": [
    "## **Repeating all the above steps and using the pickled model for the prediction of responses**"
   ]
  },
  {
   "cell_type": "code",
   "execution_count": 108,
   "metadata": {
    "executionInfo": {
     "elapsed": 1489,
     "status": "ok",
     "timestamp": 1698910929874,
     "user": {
      "displayName": "Sefalika Nayak",
      "userId": "05006885756924519255"
     },
     "user_tz": -330
    },
    "id": "idsRq77JCZNT"
   },
   "outputs": [],
   "source": [
    "# load the saved model file\n",
    "model = load_model('chatbot.h5')\n",
    "intents = json.loads(open(\"GL Bot.json\").read())\n",
    "words = pickle.load(open('words.pkl','rb'))\n",
    "classes = pickle.load(open('classes.pkl','rb'))"
   ]
  },
  {
   "cell_type": "code",
   "execution_count": 110,
   "metadata": {
    "executionInfo": {
     "elapsed": 941,
     "status": "ok",
     "timestamp": 1698910971444,
     "user": {
      "displayName": "Sefalika Nayak",
      "userId": "05006885756924519255"
     },
     "user_tz": -330
    },
    "id": "0C-t1T1MCzFr"
   },
   "outputs": [],
   "source": [
    "def clean_up_sentence(sentence):\n",
    "\n",
    "    # tokenize the pattern - split words into array\n",
    "    sentence_words = nltk.word_tokenize(sentence)\n",
    "\n",
    "    # stem each word - create short form for word\n",
    "    sentence_words = [lemmatizer.lemmatize(word.lower()) for word in sentence_words]\n",
    "    return sentence_words\n",
    "\n",
    "\n",
    "# return bag of words array: 0 or 1 for each word in the bag that exists in the sentence\n",
    "\n",
    "def bow(sentence, words, show_details=True):\n",
    "\n",
    "    # tokenize the pattern\n",
    "    sentence_words = clean_up_sentence(sentence)\n",
    "\n",
    "    # bag of words - matrix of N words, vocabulary matrix\n",
    "    bag = [0]*len(words)\n",
    "    for s in sentence_words:\n",
    "        for i,w in enumerate(words):\n",
    "            if w == s:\n",
    "\n",
    "                # assign 1 if current word is in the vocabulary position\n",
    "                bag[i] = 1\n",
    "                if show_details:\n",
    "                    print (\"found in bag: %s\" % w)\n",
    "    return(np.array(bag))\n",
    "\n",
    "def predict_class(sentence, model):\n",
    "\n",
    "    # filter out predictions below a threshold\n",
    "    p = bow(sentence, words,show_details=False)\n",
    "    res = model.predict(np.array([p]))[0]\n",
    "    error = 0.25\n",
    "    results = [[i,r] for i,r in enumerate(res) if r>error]\n",
    "\n",
    "    # sort by strength of probability\n",
    "    results.sort(key=lambda x: x[1], reverse=True)\n",
    "    return_list = []\n",
    "\n",
    "    for r in results:\n",
    "        return_list.append({\"intent\": classes[r[0]], \"probability\": str(r[1])})\n",
    "    return return_list"
   ]
  },
  {
   "cell_type": "code",
   "execution_count": 111,
   "metadata": {
    "executionInfo": {
     "elapsed": 794,
     "status": "ok",
     "timestamp": 1698910984549,
     "user": {
      "displayName": "Sefalika Nayak",
      "userId": "05006885756924519255"
     },
     "user_tz": -330
    },
    "id": "ymwYb7rEC_GB"
   },
   "outputs": [],
   "source": [
    "# function to get the response from the model\n",
    "\n",
    "def getResponse(ints, intents_json):\n",
    "    tag = ints[0]['intent']\n",
    "    list_of_intents = intents_json['intents']\n",
    "    for i in list_of_intents:\n",
    "        if(i['tag']== tag):\n",
    "            result = random.choice(i['responses'])\n",
    "            break\n",
    "    return result\n",
    "\n",
    "# function to predict the class and get the response\n",
    "\n",
    "def chatbot_response(text):\n",
    "    ints = predict_class(text, model)\n",
    "    res = getResponse(ints, intents)\n",
    "    return res"
   ]
  },
  {
   "cell_type": "code",
   "execution_count": 112,
   "metadata": {
    "executionInfo": {
     "elapsed": 718,
     "status": "ok",
     "timestamp": 1698910996915,
     "user": {
      "displayName": "Sefalika Nayak",
      "userId": "05006885756924519255"
     },
     "user_tz": -330
    },
    "id": "dDK-UDapDMV9"
   },
   "outputs": [],
   "source": [
    "# function to start the chat bot which will continue till the user type 'end'\n",
    "\n",
    "def start_chat():\n",
    "    print(\"Bot: This is Sephu! Your Personal Assistant.\\n\\n\")\n",
    "    while True:\n",
    "        inp = str(input()).lower()\n",
    "        if inp.lower()==\"end\":\n",
    "            break\n",
    "        if inp.lower()== '' or inp.lower()== '*':\n",
    "            print('Please re-phrase your query!')\n",
    "            print(\"-\"*50)\n",
    "        else:\n",
    "            print(f\"Bot: {chatbot_response(inp)}\"+'\\n')\n",
    "            print(\"-\"*50)"
   ]
  },
  {
   "cell_type": "markdown",
   "metadata": {
    "id": "85sr5DUEDU1q"
   },
   "source": [
    "### **Chatting with BOT using the Command Line Option**"
   ]
  },
  {
   "cell_type": "code",
   "execution_count": 113,
   "metadata": {
    "colab": {
     "base_uri": "https://localhost:8080/"
    },
    "executionInfo": {
     "elapsed": 188286,
     "status": "ok",
     "timestamp": 1698911193346,
     "user": {
      "displayName": "Sefalika Nayak",
      "userId": "05006885756924519255"
     },
     "user_tz": -330
    },
    "id": "JMVDEq6EDbKh",
    "outputId": "b007c0bd-16ef-4d1f-a753-63ede4b116ad"
   },
   "outputs": [
    {
     "name": "stdout",
     "output_type": "stream",
     "text": [
      "Bot: This is Sephu! Your Personal Assistant.\n",
      "\n",
      "\n",
      "Hi\n",
      "1/1 [==============================] - 0s 93ms/step\n",
      "Bot: Hello! how can i help you ?\n",
      "\n",
      "--------------------------------------------------\n",
      "who are you?\n",
      "1/1 [==============================] - 0s 21ms/step\n",
      "Bot: I am your virtual learning assistant\n",
      "\n",
      "--------------------------------------------------\n",
      "What is machine learning?\n",
      "1/1 [==============================] - 0s 22ms/step\n",
      "Bot: Link: Machine Learning wiki \n",
      "\n",
      "--------------------------------------------------\n",
      "Artificial intelligence?\n",
      "1/1 [==============================] - 0s 22ms/step\n",
      "Bot: Link: Neural Nets wiki\n",
      "\n",
      "--------------------------------------------------\n",
      "You are dumb\n",
      "1/1 [==============================] - 0s 31ms/step\n",
      "Bot: Please use respectful words\n",
      "\n",
      "--------------------------------------------------\n",
      "You are not a good assistant\n",
      "1/1 [==============================] - 0s 20ms/step\n",
      "Bot: I hope I was able to assist you, Good Bye\n",
      "\n",
      "--------------------------------------------------\n",
      "how can you help me?\n",
      "1/1 [==============================] - 0s 30ms/step\n",
      "Bot: Hello! how can i help you ?\n",
      "\n",
      "--------------------------------------------------\n",
      "you are wonderful?\n",
      "1/1 [==============================] - 0s 32ms/step\n",
      "Bot: Please use respectful words\n",
      "\n",
      "--------------------------------------------------\n",
      "Hola\n",
      "1/1 [==============================] - 0s 23ms/step\n",
      "Bot: Link: Neural Nets wiki\n",
      "\n",
      "--------------------------------------------------\n",
      "you are dumb\n",
      "1/1 [==============================] - 0s 21ms/step\n",
      "Bot: Please use respectful words\n",
      "\n",
      "--------------------------------------------------\n",
      "bye\n",
      "1/1 [==============================] - 0s 20ms/step\n",
      "Bot: Link: Neural Nets wiki\n",
      "\n",
      "--------------------------------------------------\n",
      "end\n"
     ]
    }
   ],
   "source": [
    "# start the chat bot\n",
    "start_chat()"
   ]
  },
  {
   "cell_type": "code",
   "execution_count": null,
   "metadata": {
    "id": "x0Ksm0msE8_v"
   },
   "outputs": [],
   "source": []
  }
 ],
 "metadata": {
  "colab": {
   "authorship_tag": "ABX9TyPIIjUM/OJbfTCykDGXjWH9",
   "provenance": []
  },
  "kernelspec": {
   "display_name": "Python 3 (ipykernel)",
   "language": "python",
   "name": "python3"
  },
  "language_info": {
   "codemirror_mode": {
    "name": "ipython",
    "version": 3
   },
   "file_extension": ".py",
   "mimetype": "text/x-python",
   "name": "python",
   "nbconvert_exporter": "python",
   "pygments_lexer": "ipython3",
   "version": "3.11.3"
  }
 },
 "nbformat": 4,
 "nbformat_minor": 1
}
